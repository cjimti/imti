{
 "cells": [
  {
   "cell_type": "raw",
   "metadata": {},
   "source": [
    "---\n",
    "draft: false\n",
    "layout:   post\n",
    "title:    \"Linear Algebra: Quadratic Form\"\n",
    "subtitle: \"Linear Algebra Crash Course for Programmers Part 9 of 9\"\n",
    "date:     2018-10-17\n",
    "author:   \"Craig Johnston\"\n",
    "URL:      \"linear-algebra-quadratic-form/\"\n",
    "image:    \"/img/post/hills.jpg\"\n",
    "twitter_image:  \"/img/post/hills_876_438.jpg\"\n",
    "tags:\n",
    "- Linear Algebra\n",
    "- Quadratic\n",
    "- Python\n",
    "- Octave\n",
    "- Matlab\n",
    "series:\n",
    "- Linear Algebra Crash Course\n",
    "---"
   ]
  },
  {
   "cell_type": "markdown",
   "metadata": {},
   "source": [
    "This article on **quadratic form** is part of an ongoing crash course on linear algebra programming, demonstrating concepts and implementations in Python and Octave/Matlab code."
   ]
  }
 ],
 "metadata": {
  "kernelspec": {
   "display_name": "Python [conda env:anaconda3]",
   "language": "python",
   "name": "conda-env-anaconda3-py"
  },
  "language_info": {
   "codemirror_mode": {
    "name": "ipython",
    "version": 3
   },
   "file_extension": ".py",
   "mimetype": "text/x-python",
   "name": "python",
   "nbconvert_exporter": "python",
   "pygments_lexer": "ipython3",
   "version": "3.6.5"
  }
 },
 "nbformat": 4,
 "nbformat_minor": 2
}
