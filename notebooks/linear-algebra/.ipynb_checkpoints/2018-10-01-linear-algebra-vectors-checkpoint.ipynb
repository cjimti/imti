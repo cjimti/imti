{
 "cells": [
  {
   "cell_type": "raw",
   "metadata": {},
   "source": [
    "---\n",
    "draft: false\n",
    "layout:   post\n",
    "title:    \"Linear Algebra: Vectors\"\n",
    "subtitle: \"Linear Algebra Crash Course Part 1\"\n",
    "date:     2018-10-01\n",
    "author:   \"Craig Johnston\"\n",
    "URL:      \"linear-algebra-vectors/\"\n",
    "image:    \"/img/post/paper-vector.jpg\"\n",
    "twitter_image:  \"/img/post/paper-vector_876_438.jpg\"\n",
    "tags:\n",
    "- Linear Algebra\n",
    "- Math\n",
    "- Python\n",
    "- Octave\n",
    "- Matlab\n",
    "- Vectors\n",
    "series:\n",
    "- Linear Algebra Crash Course\n",
    "---"
   ]
  },
  {
   "cell_type": "markdown",
   "metadata": {},
   "source": [
    "This article on **vectors** is part of an ongoing crash course on linear algebra programming, demonstrating concepts and implementations in Python and Octave/Matlab code. "
   ]
  },
  {
   "cell_type": "code",
   "execution_count": null,
   "metadata": {},
   "outputs": [],
   "source": []
  }
 ],
 "metadata": {
  "kernelspec": {
   "display_name": "Python [conda env:anaconda3]",
   "language": "python",
   "name": "conda-env-anaconda3-py"
  },
  "language_info": {
   "codemirror_mode": {
    "name": "ipython",
    "version": 3
   },
   "file_extension": ".py",
   "mimetype": "text/x-python",
   "name": "python",
   "nbconvert_exporter": "python",
   "pygments_lexer": "ipython3",
   "version": "3.6.5"
  }
 },
 "nbformat": 4,
 "nbformat_minor": 2
}
