{
 "cells": [
  {
   "cell_type": "raw",
   "metadata": {},
   "source": [
    "---\n",
    "draft: false\n",
    "layout:   post\n",
    "title:    \"Linear Algebra: Projections and Orthogonalization\"\n",
    "subtitle: \"Linear Algebra Crash Course Part 5\"\n",
    "date:     2018-10-05\n",
    "author:   \"Craig Johnston\"\n",
    "URL:      \"linear-algebra-projections-orthogonalizations/\"\n",
    "image:    \"/img/post/projection.jpg\"\n",
    "twitter_image:  \"/img/post/projection_876_438.jpg\"\n",
    "tags:\n",
    "- Linear Algebra\n",
    "- Projections\n",
    "- Orthogonalization\n",
    "- Math\n",
    "- Python\n",
    "- Octave\n",
    "- Matlab\n",
    "series:\n",
    "- Linear Algebra Crash Course\n",
    "---"
   ]
  },
  {
   "cell_type": "markdown",
   "metadata": {},
   "source": [
    "This article on **projections and orthogonalization** is part of an ongoing crash course on linear algebra programming, demonstrating concepts and implementations in Python and Octave/Matlab code."
   ]
  }
 ],
 "metadata": {
  "kernelspec": {
   "display_name": "Python [conda env:anaconda3]",
   "language": "python",
   "name": "conda-env-anaconda3-py"
  },
  "language_info": {
   "codemirror_mode": {
    "name": "ipython",
    "version": 3
   },
   "file_extension": ".py",
   "mimetype": "text/x-python",
   "name": "python",
   "nbconvert_exporter": "python",
   "pygments_lexer": "ipython3",
   "version": "3.6.5"
  }
 },
 "nbformat": 4,
 "nbformat_minor": 2
}
