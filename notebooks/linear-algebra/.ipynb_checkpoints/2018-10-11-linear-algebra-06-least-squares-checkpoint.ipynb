{
 "cells": [
  {
   "cell_type": "raw",
   "metadata": {},
   "source": [
    "---\n",
    "draft: false\n",
    "layout:   post\n",
    "title:    \"Linear Algebra: Least-squares\"\n",
    "subtitle: \"Linear Algebra Crash Course for Programmers Part 6 of 9\"\n",
    "date:     2018-10-11\n",
    "author:   \"Craig Johnston\"\n",
    "URL:      \"linear-algebra-least-squares/\"\n",
    "image:    \"/img/post/gears-lines.jpg\"\n",
    "twitter_image:  \"/img/post/gears-lines_876_438.jpg\"\n",
    "tags:\n",
    "- Linear Algebra\n",
    "- Equasions\n",
    "- Math\n",
    "- Python\n",
    "- Octave\n",
    "- Matlab\n",
    "series:\n",
    "- Linear Algebra Crash Course\n",
    "---"
   ]
  },
  {
   "cell_type": "markdown",
   "metadata": {},
   "source": [
    "This article on **least-squares** is part of an ongoing crash course on linear algebra programming, demonstrating concepts and implementations in Python and Octave/Matlab code."
   ]
  }
 ],
 "metadata": {
  "kernelspec": {
   "display_name": "Python [conda env:anaconda3]",
   "language": "python",
   "name": "conda-env-anaconda3-py"
  },
  "language_info": {
   "codemirror_mode": {
    "name": "ipython",
    "version": 3
   },
   "file_extension": ".py",
   "mimetype": "text/x-python",
   "name": "python",
   "nbconvert_exporter": "python",
   "pygments_lexer": "ipython3",
   "version": "3.6.5"
  }
 },
 "nbformat": 4,
 "nbformat_minor": 2
}
