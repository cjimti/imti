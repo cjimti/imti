{
 "cells": [
  {
   "cell_type": "raw",
   "metadata": {},
   "source": [
    "---\n",
    "draft: true\n",
    "layout:   post\n",
    "title:    \"Linear Algebra: Matrices 2\"\n",
    "subtitle: \"Linear Algebra Crash Course for Programmers Part 2b\"\n",
    "date:     2018-11-20\n",
    "author:   \"Craig Johnston\"\n",
    "URL:      \"linear-algebra-matrices/\"\n",
    "image:    \"/img/post/matrix.jpg\"\n",
    "twitter_image:  \"/img/post/matrix_876_438.jpg\"\n",
    "tags:\n",
    "- Linear Algebra\n",
    "- Matrices\n",
    "- Math\n",
    "- Python\n",
    "series:\n",
    "- Linear Algebra Crash Course\n",
    "---"
   ]
  },
  {
   "cell_type": "markdown",
   "metadata": {},
   "source": [
    "This article on **matrices** is part two of an ongoing crash course on programming with linear algebra, demonstrating concepts and implementations in Python. The following examples will demonstrate some of the various mathematical notations and their correcponding implementations, easily translatable to any programming language with mature math libraries. \n",
    "\n",
    "This small series of articles on linear algebra is meant to help you prepare for learning the deeper concepts related to Machine Learning, AI and math that drives the higher level abstractions provided by many of the libraries available today.\n",
    "\n",
    "> Python examples in this article make use of the [Numpy] library. Read my article [Python Data Essentials - Numpy] if you want a quick overview on this important Python library. Visualizations are accomplished with the [Matplotlib] Python library. For a beginners guide to [Matplotlib] might try my article [Python Data Essentials - Matplotlib and Seaborn]\n",
    "\n",
    "[numpy]: https://imti.co/python-data-essentials-numpy/\n",
    "[Python Data Essentials - Numpy]: https://imti.co/python-data-essentials-numpy/\n",
    "[Matplotlib]: https://imti.co/python-data-essentials-matplotlib-seaborn/\n",
    "[Python Data Essentials - Matplotlib and Seaborn]: https://imti.co/python-data-essentials-matplotlib-seaborn/\n"
   ]
  },
  {
   "cell_type": "code",
   "execution_count": 1,
   "metadata": {},
   "outputs": [],
   "source": [
    "import numpy as np\n",
    "import matplotlib.pyplot as plt\n",
    "import math\n",
    "from mpl_toolkits.mplot3d import Axes3D\n",
    "import seaborn as sb\n",
    "\n",
    "%matplotlib inline"
   ]
  },
  {
   "cell_type": "raw",
   "metadata": {},
   "source": [
    "{{< math >}}\n",
    "{{< toc >}}"
   ]
  },
  {
   "cell_type": "markdown",
   "metadata": {},
   "source": [
    "## Matrix Notation\n",
    "\n",
    "Matrices are commonly noted with a capitol letter. Refrences to a specific value in a matrix is noted by subscipt numbers representing their index. The following is a three by two matrix of [Real number]s.\n",
    "\n",
    "<p><div>\n",
    "$\n",
    "\\boldsymbol{A} =\n",
    "\\begin{pmatrix}\n",
    "    10 & 5 \\\\\n",
    "    -20 & 2 \\\\\n",
    "    \\pi & 1.5 \\\\\n",
    "\\end{pmatrix} =\n",
    "\\begin{bmatrix}\n",
    "    10 & 5 \\\\\n",
    "    -20 & 2 \\\\\n",
    "    \\pi & 1.5 \\\\\n",
    "\\end{bmatrix} =\n",
    "\\begin{matrix}\n",
    "    10 & 5 \\\\\n",
    "    -20 & 2 \\\\\n",
    "    \\pi & 1.5 \\\\\n",
    "\\end{matrix}\n",
    "= \\mathbb{R}^{3\\times2}\n",
    "$\n",
    "</div></p>\n",
    "\n",
    "\n",
    "[Real number]:https://en.wikipedia.org/wiki/Real_number"
   ]
  },
  {
   "cell_type": "code",
   "execution_count": 2,
   "metadata": {},
   "outputs": [
    {
     "data": {
      "text/plain": [
       "array([[ 10.        ,   5.        ],\n",
       "       [-20.        ,   2.        ],\n",
       "       [  3.14159265,   1.5       ]])"
      ]
     },
     "execution_count": 2,
     "metadata": {},
     "output_type": "execute_result"
    }
   ],
   "source": [
    "# python matrix \n",
    "c = np.array([[10,5],[-20,2],[np.pi,1.5]])\n",
    "c"
   ]
  },
  {
   "cell_type": "markdown",
   "metadata": {},
   "source": [
    "The dimentions of a matrix are noted by row and column. The matrix $\\boldsymbol{D}^{3\\times4}$ contains three rows and four columns.\n",
    "\n",
    "<p><div>\n",
    "$\n",
    "\\boldsymbol{D} =\n",
    "\\begin{pmatrix}\n",
    "    10  & 5 & 2 & 1 \\\\ \n",
    "    -20 & 2 & 3 & 6.6 \\\\ \n",
    "    \\pi & 1.5 & 2 & 0 \\\\\n",
    "\\end{pmatrix}\n",
    "= \\mathbb{R}^{3\\times4}\n",
    "$\n",
    "</div></p>\n",
    "\n",
    "## Accessing Elements\n",
    "\n",
    "Access elements of the matrix $\\boldsymbol{D}$ with the notation ${d}_{i j}$ where ${i}$ is the row and ${j}$ is the column.\n",
    "<p><div>\n",
    "$\n",
    "{d}_{2,4} = 6.6\n",
    "$\n",
    "</div></p>"
   ]
  },
  {
   "cell_type": "code",
   "execution_count": 3,
   "metadata": {},
   "outputs": [
    {
     "data": {
      "text/plain": [
       "array([[ 10.        ,   5.        ,   2.        ,   1.        ],\n",
       "       [-20.        ,   2.        ,   3.        ,   6.6       ],\n",
       "       [  3.14159265,   1.5       ,   2.        ,   0.        ]])"
      ]
     },
     "execution_count": 3,
     "metadata": {},
     "output_type": "execute_result"
    }
   ],
   "source": [
    "d = np.array([[10,5,2,1],[-20,2,3,6.6],[np.pi,1.5,2,0]])\n",
    "d"
   ]
  },
  {
   "cell_type": "markdown",
   "metadata": {},
   "source": [
    "Python, like many computer languages start indexing at zero. The example below implements ${d}_{2,4} = 6.6$ in Python."
   ]
  },
  {
   "cell_type": "code",
   "execution_count": 4,
   "metadata": {},
   "outputs": [
    {
     "data": {
      "text/plain": [
       "6.5999999999999996"
      ]
     },
     "execution_count": 4,
     "metadata": {},
     "output_type": "execute_result"
    }
   ],
   "source": [
    "d[1][3]"
   ]
  },
  {
   "cell_type": "markdown",
   "metadata": {},
   "source": [
    "## Common Matrix Types\n",
    "\n",
    "The follow section describes a hand full of matrix types."
   ]
  },
  {
   "cell_type": "markdown",
   "metadata": {},
   "source": [
    "### Square and Rectangular Matricies\n",
    "\n",
    "Matricies are [Square] (${m} = {n}$) or [Rectangular] (${m} \\neq {n}$)\n",
    "\n",
    "The following is a square matrix of fives, where ${m}=2$ and ${n}=2$:\n",
    "\n",
    "<p><div>\n",
    "$\n",
    "\\boldsymbol{L} = \n",
    "\\begin{pmatrix}\n",
    "    5 & 5 \\\\ \n",
    "    5 & 5 \\\\ \n",
    "\\end{pmatrix}\n",
    "= \\mathbb{R}^{2\\times2}\n",
    "$\n",
    "</div></p>\n",
    "\n",
    "[Square]: https://en.wikipedia.org/wiki/Square_matrix\n",
    "[Rectangular]: https://www.mathdoubts.com/matrix/types/rectangular/"
   ]
  },
  {
   "cell_type": "code",
   "execution_count": 5,
   "metadata": {},
   "outputs": [
    {
     "data": {
      "text/plain": [
       "array([[5, 5],\n",
       "       [5, 5]])"
      ]
     },
     "execution_count": 5,
     "metadata": {},
     "output_type": "execute_result"
    }
   ],
   "source": [
    "# numpy.full(shape, fill_value, dtype=None, order='C')[source]\n",
    "# Returns a new array of given shape and type, filled with fill_value.\n",
    "l = np.full((2,2), 5)\n",
    "l"
   ]
  },
  {
   "cell_type": "markdown",
   "metadata": {},
   "source": [
    "The following is a rectangular matrix $\\boldsymbol{P}_{3,2}$ of fours, where ${m}=3$ and ${n}=2$:\n",
    "\n",
    "<p><div>\n",
    "$\n",
    "\\boldsymbol{P} = \n",
    "\\begin{pmatrix}\n",
    "    4 & 4 \\\\ \n",
    "    4 & 4 \\\\ \n",
    "    4 & 4 \\\\ \n",
    "\\end{pmatrix}\n",
    "= \\mathbb{R}^{3\\times2}\n",
    "$\n",
    "</div></p>"
   ]
  },
  {
   "cell_type": "code",
   "execution_count": 6,
   "metadata": {},
   "outputs": [
    {
     "data": {
      "text/plain": [
       "array([[4, 4],\n",
       "       [4, 4],\n",
       "       [4, 4]])"
      ]
     },
     "execution_count": 6,
     "metadata": {},
     "output_type": "execute_result"
    }
   ],
   "source": [
    "p = np.full((3,2), 4)\n",
    "p"
   ]
  },
  {
   "cell_type": "markdown",
   "metadata": {},
   "source": [
    "### Zero (null) Matricies\n",
    "\n",
    "A [Zero] matrix only contains zeros and may be square (${m} = {n}$) or rectangular (${m} \\neq {n}$).\n",
    "\n",
    "<p><div>\n",
    "$\n",
    "\\boldsymbol{Z} = \n",
    "\\begin{pmatrix}\n",
    "    0 & 0 \\\\ \n",
    "    0 & 0 \\\\ \n",
    "\\end{pmatrix}\n",
    "= \\mathbb{R}^{2\\times2}\n",
    "$\n",
    "</div></p>\n",
    "\n",
    "[Zero]: https://www.khanacademy.org/math/precalculus/precalc-matrices/properties-of-matrix-addition-and-scalar-multiplication/a/intro-to-zero-matrices"
   ]
  },
  {
   "cell_type": "code",
   "execution_count": 7,
   "metadata": {},
   "outputs": [
    {
     "data": {
      "text/plain": [
       "array([[ 0.,  0.],\n",
       "       [ 0.,  0.]])"
      ]
     },
     "execution_count": 7,
     "metadata": {},
     "output_type": "execute_result"
    }
   ],
   "source": [
    "np.zeros((2,2))"
   ]
  },
  {
   "cell_type": "markdown",
   "metadata": {},
   "source": [
    "### Diagonal Matricies\n",
    "\n",
    "[Diagonal] matricies may be [Square] or [Rectangular] contain only zeros for off-diagonal entries, however elements in the main diagonal are unrestricted and may also be zero.\n",
    "\n",
    "<p><div>\n",
    "$\n",
    "\\boldsymbol{W} =\n",
    "\\begin{pmatrix}\n",
    "    2 & 0 & 0 & 0 & 0 \\\\ \n",
    "    0 & 3 & 0 & 0 & 0 \\\\ \n",
    "    0 & 0 & 5 & 0 & 0 \\\\\n",
    "    0 & 0 & 0 & 7 & 0 \\\\\n",
    "    0 & 0 & 0 & 0 & 9 \\\\\n",
    "\\end{pmatrix}\n",
    "= \\mathbb{R}^{5\\times5}\n",
    "$\n",
    "</div></p>\n",
    "\n",
    "The above matrix $\\boldsymbol{W}$ is diagonal in that every $w_{i}th$ row and $w_{ij}th$ column in the range { $1, 2, \\ldots, n$ } where $i \\ne j$ then $w_{i,j} = 0$.\n",
    "\n",
    "$\\forall i,j \\in \\{1, 2, \\ldots, n\\}, i \\ne j \\implies w_{i,j} = 0$\n",
    "\n",
    "\n",
    "[Diagonal]:http://mathonline.wikidot.com/diagonal-matrices\n",
    "[Square]: https://en.wikipedia.org/wiki/Square_matrix\n",
    "[Rectangular]: https://www.mathdoubts.com/matrix/types/rectangular/"
   ]
  },
  {
   "cell_type": "code",
   "execution_count": 8,
   "metadata": {},
   "outputs": [
    {
     "data": {
      "text/plain": [
       "array([[2, 0, 0, 0, 0],\n",
       "       [0, 3, 0, 0, 0],\n",
       "       [0, 0, 5, 0, 0],\n",
       "       [0, 0, 0, 7, 0],\n",
       "       [0, 0, 0, 0, 9]])"
      ]
     },
     "execution_count": 8,
     "metadata": {},
     "output_type": "execute_result"
    }
   ],
   "source": [
    "# create the square diagonal matrix W \n",
    "w = np.diag([2,3,5,7,9])\n",
    "w"
   ]
  },
  {
   "cell_type": "code",
   "execution_count": 9,
   "metadata": {},
   "outputs": [
    {
     "data": {
      "text/plain": [
       "(5, 5)"
      ]
     },
     "execution_count": 9,
     "metadata": {},
     "output_type": "execute_result"
    }
   ],
   "source": [
    "w.shape"
   ]
  },
  {
   "cell_type": "markdown",
   "metadata": {},
   "source": [
    "Diagonal elements in a rectangular matrix.\n",
    "\n",
    "<p><div>\n",
    "$\n",
    "\\boldsymbol{G} =\n",
    "\\begin{pmatrix}\n",
    "    2 & 0 & 0 & 0 & 0 & 0 \\\\ \n",
    "    0 & 3 & 0 & 0 & 0 & 0 \\\\ \n",
    "    0 & 0 & 5 & 0 & 0 & 0 \\\\\n",
    "    0 & 0 & 0 & 7 & 0 & 0 \\\\\n",
    "    0 & 0 & 0 & 0 & 9 & 0 \\\\\n",
    "\\end{pmatrix}\n",
    "= \\mathbb{R}^{5\\times6}\n",
    "$\n",
    "</div></p>"
   ]
  },
  {
   "cell_type": "code",
   "execution_count": 10,
   "metadata": {},
   "outputs": [
    {
     "data": {
      "text/plain": [
       "array([[2, 0, 0, 0, 0, 0],\n",
       "       [0, 3, 0, 0, 0, 0],\n",
       "       [0, 0, 5, 0, 0, 0],\n",
       "       [0, 0, 0, 7, 0, 0],\n",
       "       [0, 0, 0, 0, 9, 0]])"
      ]
     },
     "execution_count": 10,
     "metadata": {},
     "output_type": "execute_result"
    }
   ],
   "source": [
    "# Create the rectangular diagonal matrix G\n",
    "# by appending a column vector of zeros\n",
    "cz = np.full((w.shape[0],1), 0)\n",
    "\n",
    "# by appending a column by axis=1\n",
    "g = np.append(w, cz, axis=1)\n",
    "g"
   ]
  },
  {
   "cell_type": "code",
   "execution_count": 11,
   "metadata": {},
   "outputs": [
    {
     "data": {
      "text/plain": [
       "(5, 6)"
      ]
     },
     "execution_count": 11,
     "metadata": {},
     "output_type": "execute_result"
    }
   ],
   "source": [
    "g.shape"
   ]
  },
  {
   "cell_type": "markdown",
   "metadata": {},
   "source": [
    "### Identity Matricies\n",
    "\n",
    "[Identity] matricies are square (${m} = {n}$) and contain ones across the diagonal with zeros elsewhere. [Identity] matricies are noted with the symbol $\\boldsymbol{I}$\n",
    "\n",
    "\n",
    "<p><div>\n",
    "$\n",
    "\\boldsymbol{I} =\n",
    "\\begin{pmatrix}\n",
    "    1 & 0 & 0 \\\\\n",
    "    0 & \\ddots & 0 \\\\\n",
    "    0 & 0 & 1 \\\\\n",
    "\\end{pmatrix}\n",
    "$\n",
    "</div></p>\n",
    "\n",
    "$\\forall i,j \\in \\{1, 2, \\ldots, n\\}, i \\ne j \\implies w_{i,j} = 0$\n",
    "\n",
    "$\\forall i,j \\in \\{1, 2, \\ldots, n\\}, i = j \\implies w_{i,j} = 1$\n",
    "\n",
    "\n",
    "[Identity]: https://www.web-formulas.com/Math_Formulas/Linear_Algebra_Definition_of_Identity_Matrix.aspx"
   ]
  },
  {
   "cell_type": "code",
   "execution_count": 12,
   "metadata": {},
   "outputs": [
    {
     "data": {
      "text/plain": [
       "array([[ 1.,  0.,  0.,  0.,  0.],\n",
       "       [ 0.,  1.,  0.,  0.,  0.],\n",
       "       [ 0.,  0.,  1.,  0.,  0.],\n",
       "       [ 0.,  0.,  0.,  1.,  0.],\n",
       "       [ 0.,  0.,  0.,  0.,  1.]])"
      ]
     },
     "execution_count": 12,
     "metadata": {},
     "output_type": "execute_result"
    }
   ],
   "source": [
    "eye = np.eye(5)\n",
    "eye"
   ]
  },
  {
   "cell_type": "markdown",
   "metadata": {},
   "source": [
    "It is common to see a constant value next to the identity matrix smybol $\\boldsymbol{I}$ such as $5\\boldsymbol{I}$.\n",
    "\n",
    "<p><div>\n",
    "$\n",
    "5\\boldsymbol{I} =\n",
    "\\begin{pmatrix}\n",
    "    5 & 0 & 0 \\\\\n",
    "    0 & \\ddots & 0 \\\\\n",
    "    0 & 0 & 5 \\\\\n",
    "\\end{pmatrix}\n",
    "$\n",
    "</div></p>"
   ]
  },
  {
   "cell_type": "code",
   "execution_count": 13,
   "metadata": {},
   "outputs": [
    {
     "data": {
      "text/plain": [
       "array([[ 5.,  0.,  0.,  0.,  0.],\n",
       "       [ 0.,  5.,  0.,  0.,  0.],\n",
       "       [ 0.,  0.,  5.,  0.,  0.],\n",
       "       [ 0.,  0.,  0.,  5.,  0.],\n",
       "       [ 0.,  0.,  0.,  0.,  5.]])"
      ]
     },
     "execution_count": 13,
     "metadata": {},
     "output_type": "execute_result"
    }
   ],
   "source": [
    "5 * eye"
   ]
  },
  {
   "cell_type": "markdown",
   "metadata": {},
   "source": [
    "### Triangular Matricies\n",
    "\n",
    "[Triangular] matricies are categorized as upper or lower with zeros above or below the diagonal.\n",
    "\n",
    "Upper triangular matrix:\n",
    "\n",
    "<p><div>\n",
    "$\n",
    "\\boldsymbol{U} =\n",
    "\\begin{pmatrix}\n",
    "    1 & 2 & 3 \\\\\n",
    "    0 & 5 & 6 \\\\\n",
    "    0 & 0 & 9 \\\\\n",
    "\\end{pmatrix}\n",
    "$\n",
    "</div></p>\n",
    "\n",
    "Lower triangular matrix:\n",
    "\n",
    "<p><div>\n",
    "$\n",
    "\\boldsymbol{L} =\n",
    "\\begin{pmatrix}\n",
    "    1 & 0 & 0 \\\\\n",
    "    4 & 5 & 0 \\\\\n",
    "    7 & 8 & 9 \\\\\n",
    "\\end{pmatrix}\n",
    "$\n",
    "</div></p>\n",
    "\n",
    "\n",
    "\n",
    "[Triangular]: https://en.wikipedia.org/wiki/Triangular_matrix"
   ]
  },
  {
   "cell_type": "code",
   "execution_count": 14,
   "metadata": {},
   "outputs": [
    {
     "data": {
      "text/plain": [
       "array([1, 2, 3, 4, 5, 6, 7, 8, 9])"
      ]
     },
     "execution_count": 14,
     "metadata": {},
     "output_type": "execute_result"
    }
   ],
   "source": [
    "# create an array of numbers, 1...9\n",
    "nums = np.arange(1,10)\n",
    "nums"
   ]
  },
  {
   "cell_type": "code",
   "execution_count": 15,
   "metadata": {},
   "outputs": [
    {
     "data": {
      "text/plain": [
       "array([[1, 2, 3],\n",
       "       [4, 5, 6],\n",
       "       [7, 8, 9]])"
      ]
     },
     "execution_count": 15,
     "metadata": {},
     "output_type": "execute_result"
    }
   ],
   "source": [
    "# reshape the array into a 3x3 matrix\n",
    "mx = np.reshape(nums, (3,3))\n",
    "mx"
   ]
  },
  {
   "cell_type": "code",
   "execution_count": 16,
   "metadata": {},
   "outputs": [
    {
     "name": "stdout",
     "output_type": "stream",
     "text": [
      "matrix U:\n",
      "[[1 2 3]\n",
      " [0 5 6]\n",
      " [0 0 9]]\n"
     ]
    }
   ],
   "source": [
    "# create an upper triangular matrix\n",
    "u = np.triu(mx)\n",
    "print(f'matrix U:\\n{u}')"
   ]
  },
  {
   "cell_type": "code",
   "execution_count": 17,
   "metadata": {},
   "outputs": [
    {
     "name": "stdout",
     "output_type": "stream",
     "text": [
      "matrix L:\n",
      "[[1 0 0]\n",
      " [4 5 0]\n",
      " [7 8 9]]\n"
     ]
    }
   ],
   "source": [
    "# create a lower triangular matrix\n",
    "l = np.tril(mx)\n",
    "print(f'matrix L:\\n{l}')"
   ]
  },
  {
   "cell_type": "markdown",
   "metadata": {},
   "source": [
    "### Transposed Matrix\n",
    "\n",
    "Transposeing flips a matrix over its diagonal. A transposed matrix may be noted as $\\boldsymbol{I}^T$ or $\\boldsymbol{I}'$. Transposing is easy to see when using one of the triangular matricies above.\n",
    "\n",
    "Lower triangular matrix:\n",
    "\n",
    "<p><div>\n",
    "$\n",
    "\\boldsymbol{L} =\n",
    "\\begin{pmatrix}\n",
    "    1 & 0 & 0 \\\\\n",
    "    4 & 5 & 0 \\\\\n",
    "    7 & 8 & 9 \\\\\n",
    "\\end{pmatrix}\n",
    "$\n",
    "</div></p>\n",
    "\n",
    "Transposed:\n",
    "\n",
    "<p><div>\n",
    "$\n",
    "\\boldsymbol{L}^T =\n",
    "\\begin{pmatrix}\n",
    "    1 & 4 & 7 \\\\\n",
    "    0 & 5 & 8 \\\\\n",
    "    0 & 0 & 9 \\\\\n",
    "\\end{pmatrix}\n",
    "$\n",
    "</div></p>\n",
    "\n",
    "Every i-th row, j-th column have been transposed:\n",
    "\n",
    "$\\boldsymbol{L}^T_{i j} = \\boldsymbol{L}_{j i}$"
   ]
  },
  {
   "cell_type": "code",
   "execution_count": 18,
   "metadata": {},
   "outputs": [
    {
     "name": "stdout",
     "output_type": "stream",
     "text": [
      "matrix L:\n",
      "[[1 0 0]\n",
      " [4 5 0]\n",
      " [7 8 9]]\n"
     ]
    }
   ],
   "source": [
    "print(f'matrix L:\\n{l}')"
   ]
  },
  {
   "cell_type": "code",
   "execution_count": 19,
   "metadata": {},
   "outputs": [
    {
     "data": {
      "text/plain": [
       "7"
      ]
     },
     "execution_count": 19,
     "metadata": {},
     "output_type": "execute_result"
    }
   ],
   "source": [
    "# note: zero based index\n",
    "# i (row 3) and j (colum 1) \n",
    "l[2][0]"
   ]
  },
  {
   "cell_type": "code",
   "execution_count": 20,
   "metadata": {},
   "outputs": [
    {
     "data": {
      "text/plain": [
       "array([[1, 4, 7],\n",
       "       [0, 5, 8],\n",
       "       [0, 0, 9]])"
      ]
     },
     "execution_count": 20,
     "metadata": {},
     "output_type": "execute_result"
    }
   ],
   "source": [
    "# transpose L (also. np.transpose(l))\n",
    "l.T"
   ]
  },
  {
   "cell_type": "code",
   "execution_count": 21,
   "metadata": {},
   "outputs": [
    {
     "data": {
      "text/plain": [
       "7"
      ]
     },
     "execution_count": 21,
     "metadata": {},
     "output_type": "execute_result"
    }
   ],
   "source": [
    "# i (row 1) and j (colum 3) \n",
    "l.T[0][2]"
   ]
  },
  {
   "cell_type": "markdown",
   "metadata": {},
   "source": [
    "### Symmetric & Skew-symetric Matricies\n",
    "\n",
    "[Symmetric & Skew-symetric] matricies have values that correlate to the transposed position above and below the diagonal. A symmetrical matrix can be expressed as $\\boldsymbol{V}^T = \\boldsymbol{V}$. A skew-symetric matrix can be expressed as $\\boldsymbol{W}^T = -\\boldsymbol{W}$.\n",
    "\n",
    "[Symmetric & Skew-symetric]: https://byjus.com/maths/what-is-symmetric-matrix-and-skew-symmetric-matrix/"
   ]
  },
  {
   "cell_type": "code",
   "execution_count": 22,
   "metadata": {},
   "outputs": [
    {
     "data": {
      "text/plain": [
       "array([[1, 2, 3],\n",
       "       [0, 5, 6],\n",
       "       [0, 0, 9]])"
      ]
     },
     "execution_count": 22,
     "metadata": {},
     "output_type": "execute_result"
    }
   ],
   "source": [
    "# Using the upper triangle matrix from above \n",
    "u"
   ]
  },
  {
   "cell_type": "markdown",
   "metadata": {},
   "source": [
    "$\\boldsymbol{S} = \\boldsymbol{U} + \\boldsymbol{U}^T$"
   ]
  },
  {
   "cell_type": "code",
   "execution_count": 23,
   "metadata": {},
   "outputs": [
    {
     "name": "stdout",
     "output_type": "stream",
     "text": [
      "matrix S:\n",
      "[[ 2  2  3]\n",
      " [ 2 10  6]\n",
      " [ 3  6 18]]\n"
     ]
    }
   ],
   "source": [
    "# Add the upper triangle matrix to a transposed\n",
    "# version of itself. We are not concerned with the diagonal.\n",
    "s = u + u.T\n",
    "print(f'matrix S:\\n{s}')"
   ]
  },
  {
   "cell_type": "markdown",
   "metadata": {},
   "source": [
    "Check the matrix $\\boldsymbol{S}$ for symmetry. Does $\\boldsymbol{S}^T = \\boldsymbol{S}$ ?"
   ]
  },
  {
   "cell_type": "code",
   "execution_count": 24,
   "metadata": {},
   "outputs": [
    {
     "data": {
      "text/plain": [
       "True"
      ]
     },
     "execution_count": 24,
     "metadata": {},
     "output_type": "execute_result"
    }
   ],
   "source": [
    "# is the s matrix is symmetric\n",
    "np.array_equal(s, s.T)"
   ]
  },
  {
   "cell_type": "markdown",
   "metadata": {},
   "source": [
    "Another method for creating a symetric matrix invloves multiplying a matrix by it's transpose.\n",
    "\n",
    "<p><div>$\\boldsymbol{G} =\n",
    "\\begin{pmatrix}\n",
    "    1 & 2 & 3 \\\\\n",
    "    4 & 5 & 6 \\\\\n",
    "    7 & 8 & 9 \\\\\n",
    "\\end{pmatrix}\n",
    "$</div></p>\n",
    "\n",
    "<p><div>$\\boldsymbol{G}\\boldsymbol{G}^T = \\underbrace{\n",
    "\\begin{pmatrix}\n",
    "    14 & \\boldsymbol{32} & \\boldsymbol{50} \\\\\n",
    "    \\boldsymbol{32} & 77 & \\boldsymbol{122} \\\\\n",
    "    \\boldsymbol{50} & \\boldsymbol{122} & 194 \\\\\n",
    "\\end{pmatrix}}_{symmetric}\n",
    "$</div></p>"
   ]
  },
  {
   "cell_type": "code",
   "execution_count": 25,
   "metadata": {},
   "outputs": [],
   "source": [
    "G = np.arange(1,10).reshape(3,3)"
   ]
  },
  {
   "cell_type": "code",
   "execution_count": 26,
   "metadata": {},
   "outputs": [
    {
     "data": {
      "text/plain": [
       "array([[ 14,  32,  50],\n",
       "       [ 32,  77, 122],\n",
       "       [ 50, 122, 194]])"
      ]
     },
     "execution_count": 26,
     "metadata": {},
     "output_type": "execute_result"
    }
   ],
   "source": [
    "G @ G.T"
   ]
  },
  {
   "cell_type": "markdown",
   "metadata": {},
   "source": [
    "Next, create a skew-symetric matrix by using the same upper triangle matrix, and creating a transpozed [additive inverse] of it, then add the two matricies together.\n",
    "\n",
    "$\\boldsymbol{V} = -\\boldsymbol{U} + \\boldsymbol{U}^T$\n",
    "\n",
    "[additive inverse]: https://study.com/academy/lesson/additive-inverse-property-definition-examples.html"
   ]
  },
  {
   "cell_type": "code",
   "execution_count": 27,
   "metadata": {},
   "outputs": [
    {
     "name": "stdout",
     "output_type": "stream",
     "text": [
      "matrix V:\n",
      "[[ 0 -2 -3]\n",
      " [ 2  0 -6]\n",
      " [ 3  6  0]]\n"
     ]
    }
   ],
   "source": [
    "v = (u * -1) + u.T\n",
    "print(f'matrix V:\\n{v}')"
   ]
  },
  {
   "cell_type": "markdown",
   "metadata": {},
   "source": [
    "Check for skew-symmertic $\\boldsymbol{V}^T = -\\boldsymbol{V}$"
   ]
  },
  {
   "cell_type": "code",
   "execution_count": 28,
   "metadata": {},
   "outputs": [
    {
     "data": {
      "text/plain": [
       "True"
      ]
     },
     "execution_count": 28,
     "metadata": {},
     "output_type": "execute_result"
    }
   ],
   "source": [
    "# is the s matrix skew-symmetric?\n",
    "np.array_equal(v.T, (v * -1))"
   ]
  },
  {
   "cell_type": "markdown",
   "metadata": {},
   "source": [
    "### Augmented Matricies\n",
    "\n",
    "[Augmented] matricies often used for solving system os equasions, they are the concatination of two matricies with the **same number of rows (${m} = {m}$)**. \n",
    "\n",
    "<p><div>\n",
    "$\n",
    "\\boldsymbol{A} =\n",
    "\\begin{pmatrix}\n",
    "    1 & 0 & 0 \\\\\n",
    "    4 & 5 & 0 \\\\\n",
    "    7 & 8 & 9 \\\\\n",
    "\\end{pmatrix}\n",
    "\\sqcup\t\n",
    "\\begin{pmatrix}\n",
    "    1 & 4 & 7 \\\\\n",
    "    0 & 5 & 8 \\\\\n",
    "    0 & 0 & 9 \\\\\n",
    "\\end{pmatrix}\n",
    "=\n",
    "\\left(\n",
    "\\begin{array}{ccc|ccc}\n",
    "    1 & 0 & 0 & 1 & 4 & 7 \\\\\n",
    "    4 & 5 & 0 & 0 & 5 & 8 \\\\\n",
    "    7 & 8 & 9 & 0 & 0 & 9 \\\\\n",
    "\\end{array}\n",
    "\\right)\n",
    "$ \n",
    "</div></p>\n",
    "\n",
    "\n",
    "\n",
    "[Augmented]: http://tutorial.math.lamar.edu/Classes/Alg/AugmentedMatrix.aspx"
   ]
  },
  {
   "cell_type": "code",
   "execution_count": 29,
   "metadata": {},
   "outputs": [
    {
     "name": "stdout",
     "output_type": "stream",
     "text": [
      "matrix L:\n",
      "[[1 0 0]\n",
      " [4 5 0]\n",
      " [7 8 9]]\n",
      "\n",
      "matrix U:\n",
      "[[1 2 3]\n",
      " [0 5 6]\n",
      " [0 0 9]]\n"
     ]
    }
   ],
   "source": [
    "print(f'matrix L:\\n{l}\\n')\n",
    "print(f'matrix U:\\n{u}')"
   ]
  },
  {
   "cell_type": "code",
   "execution_count": 30,
   "metadata": {},
   "outputs": [
    {
     "name": "stdout",
     "output_type": "stream",
     "text": [
      "Augmented matrix A:\n",
      "[[1 0 0 1 2 3]\n",
      " [4 5 0 0 5 6]\n",
      " [7 8 9 0 0 9]]\n"
     ]
    }
   ],
   "source": [
    "a = np.append(l, u, axis=1)\n",
    "print(f'Augmented matrix A:\\n{a}')"
   ]
  },
  {
   "cell_type": "markdown",
   "metadata": {},
   "source": [
    "### Complex Matricies\n",
    "\n",
    "[Complex] matricies, often noted as $\\mathbb{C}$, contain [complex numbers].\n",
    "\n",
    "\n",
    "[complex numbers]: http://mathworld.wolfram.com/ComplexNumber.html\n",
    "[Complex]: http://mathworld.wolfram.com/ComplexMatrix.html"
   ]
  },
  {
   "cell_type": "code",
   "execution_count": 31,
   "metadata": {},
   "outputs": [
    {
     "name": "stdout",
     "output_type": "stream",
     "text": [
      "Complex matrix P:\n",
      "[[ 0.+0.j  2.+7.j  0.+0.j]\n",
      " [ 0.+0.j  0.+0.j  0.+0.j]\n",
      " [ 0.+0.j  0.+0.j  0.+0.j]]\n"
     ]
    }
   ],
   "source": [
    "# create a zero matrix of the data type np.complex\n",
    "p = np.zeros((3,3), dtype=np.complex)\n",
    "p[0][1] = 1 + 1 + 7j\n",
    "print(f'Complex matrix P:\\n{p}')"
   ]
  },
  {
   "cell_type": "code",
   "execution_count": 32,
   "metadata": {},
   "outputs": [
    {
     "data": {
      "text/plain": [
       "0j"
      ]
     },
     "execution_count": 32,
     "metadata": {},
     "output_type": "execute_result"
    }
   ],
   "source": [
    "p[0][0]"
   ]
  },
  {
   "cell_type": "markdown",
   "metadata": {},
   "source": [
    "## Matrix Addition\n",
    "\n",
    "Matrix addition and subtraction works only with matricies of equal size (**m** by **n**). The entrywise sum is calculated by adding each value ${ij}$ of one matrix to the corresponding ${ij}$ of the other. Matrix addition is commutative and associative, for instance the following are valid:\n",
    "\n",
    "<p><div>\n",
    "$\n",
    "\\boldsymbol{G} =\n",
    "\\begin{pmatrix}\n",
    "    1 & 2 \\\\\n",
    "    3 & 4 \\\\\n",
    "\\end{pmatrix}\n",
    ",\n",
    " \\boldsymbol{H} =\n",
    "\\begin{pmatrix}\n",
    "    2 & 3 \\\\\n",
    "    3 & 3 \\\\\n",
    "\\end{pmatrix}\n",
    ", \n",
    " \\boldsymbol{F} =\n",
    "\\begin{pmatrix}\n",
    "    5 & 4 \\\\\n",
    "    3 & -1 \\\\\n",
    "\\end{pmatrix}\n",
    "$\n",
    "</div></p>\n",
    "\n",
    "$\\boldsymbol{G} + \\boldsymbol{H} = \\boldsymbol{H} + \\boldsymbol{G} = \n",
    "\\begin{pmatrix}\n",
    "    3 & 5 \\\\\n",
    "    6 & 7 \\\\\n",
    "\\end{pmatrix}\n",
    "$\n",
    "\n",
    "$\\boldsymbol{G} + (\\boldsymbol{H} + \\boldsymbol{F}) = (\\boldsymbol{G} + \\boldsymbol{H}) + \\boldsymbol{F} = \n",
    "\\begin{pmatrix}\n",
    "    8 & 9 \\\\\n",
    "    9 & 6 \\\\\n",
    "\\end{pmatrix}\n",
    "$ \n",
    "\n",
    "There are other types of [matrix addition opperations] inclusing Direct Sum and Kronecker sum.\n",
    "\n",
    "[matrix addition opperations]: https://en.wikipedia.org/wiki/Matrix_addition\n"
   ]
  },
  {
   "cell_type": "code",
   "execution_count": 33,
   "metadata": {},
   "outputs": [
    {
     "data": {
      "text/plain": [
       "array([[1, 2],\n",
       "       [3, 4]])"
      ]
     },
     "execution_count": 33,
     "metadata": {},
     "output_type": "execute_result"
    }
   ],
   "source": [
    "# construct a 2x2 matrix by reshaping a 1x4 array\n",
    "g = np.array([1,2,3,4]).reshape(2,2)\n",
    "g"
   ]
  },
  {
   "cell_type": "code",
   "execution_count": 34,
   "metadata": {},
   "outputs": [
    {
     "data": {
      "text/plain": [
       "array([[2, 3],\n",
       "       [3, 3]])"
      ]
     },
     "execution_count": 34,
     "metadata": {},
     "output_type": "execute_result"
    }
   ],
   "source": [
    "h = np.array([2,3,3,3]).reshape(2,2)\n",
    "h"
   ]
  },
  {
   "cell_type": "code",
   "execution_count": 35,
   "metadata": {},
   "outputs": [
    {
     "data": {
      "text/plain": [
       "array([[ 5,  4],\n",
       "       [ 3, -1]])"
      ]
     },
     "execution_count": 35,
     "metadata": {},
     "output_type": "execute_result"
    }
   ],
   "source": [
    "f = np.array([5,4,3,-1]).reshape(2,2)\n",
    "f"
   ]
  },
  {
   "cell_type": "code",
   "execution_count": 36,
   "metadata": {},
   "outputs": [
    {
     "data": {
      "text/plain": [
       "array([[ True,  True],\n",
       "       [ True,  True]], dtype=bool)"
      ]
     },
     "execution_count": 36,
     "metadata": {},
     "output_type": "execute_result"
    }
   ],
   "source": [
    "g + h == h + g"
   ]
  },
  {
   "cell_type": "code",
   "execution_count": 37,
   "metadata": {},
   "outputs": [
    {
     "name": "stdout",
     "output_type": "stream",
     "text": [
      "equasions are commutative\n"
     ]
    }
   ],
   "source": [
    "if (g + h == h + g).all:\n",
    "    print(\"equasions are commutative\")"
   ]
  },
  {
   "cell_type": "code",
   "execution_count": 38,
   "metadata": {},
   "outputs": [
    {
     "name": "stdout",
     "output_type": "stream",
     "text": [
      "equasions are associative\n"
     ]
    }
   ],
   "source": [
    "if (g + ( h + f ) == (g + h) + f).all:\n",
    "    print(\"equasions are associative\")"
   ]
  },
  {
   "cell_type": "code",
   "execution_count": 39,
   "metadata": {},
   "outputs": [
    {
     "data": {
      "text/plain": [
       "array([[False, False],\n",
       "       [ True, False]], dtype=bool)"
      ]
     },
     "execution_count": 39,
     "metadata": {},
     "output_type": "execute_result"
    }
   ],
   "source": [
    "g - h == h - g"
   ]
  },
  {
   "cell_type": "markdown",
   "metadata": {},
   "source": [
    "## Matrix Scalar Multiplication\n",
    "\n",
    "Multiplying a scalar by a matrix multiplies each ${ij}$ element by the scalar.\n",
    "\n",
    "<p><div>\n",
    "$\\theta\n",
    "\\begin{pmatrix}\n",
    "    {a} & {b}\\\\\n",
    "    {c} & {d} \\\\\n",
    "\\end{pmatrix} =\n",
    "\\begin{pmatrix}\n",
    "    \\theta{a} & \\theta{b}\\\\\n",
    "    \\theta{c} & \\theta{d} \\\\\n",
    "\\end{pmatrix}\n",
    "$\n",
    "</div></p>\n",
    "\n",
    "Scalar multiplication is commutative.\n",
    "\n",
    "$\\boldsymbol{G}\\theta = \\theta\\boldsymbol{G}$\n",
    "\n",
    "<p><div>\n",
    "$\n",
    "\\begin{pmatrix}\n",
    "    \\theta{a} & \\theta{b}\\\\\n",
    "    \\theta{c} & \\theta{d} \\\\\n",
    "\\end{pmatrix}\n",
    " =\n",
    "\\begin{pmatrix}\n",
    "    {a} & {b}\\\\\n",
    "    {c} & {d} \\\\\n",
    "\\end{pmatrix}\n",
    "\\theta\n",
    "$\n",
    "</div></p>"
   ]
  },
  {
   "cell_type": "code",
   "execution_count": 40,
   "metadata": {},
   "outputs": [
    {
     "data": {
      "text/plain": [
       "array([[ 5, 10],\n",
       "       [15, 20]])"
      ]
     },
     "execution_count": 40,
     "metadata": {},
     "output_type": "execute_result"
    }
   ],
   "source": [
    "theta = 5\n",
    "g * theta"
   ]
  },
  {
   "cell_type": "code",
   "execution_count": 41,
   "metadata": {},
   "outputs": [
    {
     "data": {
      "text/plain": [
       "array([[ 5, 10],\n",
       "       [15, 20]])"
      ]
     },
     "execution_count": 41,
     "metadata": {},
     "output_type": "execute_result"
    }
   ],
   "source": [
    "theta * g"
   ]
  },
  {
   "cell_type": "markdown",
   "metadata": {},
   "source": [
    "## Trace\n",
    "\n",
    "The trace of a matrix is the sum of the diagonal of a square ${n}$ x ${n}$ matrix, $\\sum_{i=1}^n{a}_{ii}$. \n",
    "\n",
    "<p><div>\n",
    "$\\mathrm{tr}\\left(\\boldsymbol{A}\\right) = \\sum_{i=1}^n\n",
    "\\begin{pmatrix}\n",
    "    \\boldsymbol{1} & 2 & 3 \\\\\n",
    "    4 & \\boldsymbol{5} & 6 \\\\\n",
    "    7 & 8 & \\boldsymbol{9} \\\\\n",
    "\\end{pmatrix}_{ii} = 15\n",
    "$\n",
    "</div></p>"
   ]
  },
  {
   "cell_type": "code",
   "execution_count": 42,
   "metadata": {},
   "outputs": [
    {
     "data": {
      "text/plain": [
       "array([[1, 2, 3],\n",
       "       [4, 5, 6],\n",
       "       [7, 8, 9]])"
      ]
     },
     "execution_count": 42,
     "metadata": {},
     "output_type": "execute_result"
    }
   ],
   "source": [
    "a = np.array([1,2,3,4,5,6,7,8,9]).reshape(3,3)\n",
    "a"
   ]
  },
  {
   "cell_type": "code",
   "execution_count": 43,
   "metadata": {},
   "outputs": [
    {
     "data": {
      "text/plain": [
       "15"
      ]
     },
     "execution_count": 43,
     "metadata": {},
     "output_type": "execute_result"
    }
   ],
   "source": [
    "# use Numpy trace function\n",
    "np.trace(a)"
   ]
  },
  {
   "cell_type": "code",
   "execution_count": 44,
   "metadata": {},
   "outputs": [
    {
     "data": {
      "text/plain": [
       "15"
      ]
     },
     "execution_count": 44,
     "metadata": {},
     "output_type": "execute_result"
    }
   ],
   "source": [
    "# extract and diagonal and sum\n",
    "np.diag(a).sum()"
   ]
  },
  {
   "cell_type": "markdown",
   "metadata": {},
   "source": [
    "## Matrix Multiplication\n",
    "\n",
    "Matrix multiplication is [associative] and generaly non-[commutative].\n",
    "\n",
    "### Standard Matrix Multiplication\n",
    "\n",
    "Left multiplies right, for example $\\boldsymbol{T}\\boldsymbol{U}$, $\\boldsymbol{T}$ multiplies $\\boldsymbol{U}$. Valid standaed matrix multiplication requires the inner dimentions be the same, for instnace the number of columns (${n}$) in the left matrix must match the number of rows (${m}$) in the left matrix.\n",
    "\n",
    "<p><div>\n",
    "$\\boldsymbol{T} =\n",
    "\\begin{pmatrix}\n",
    "    1 & 2 & 3 \\\\\n",
    "    4 & 5 & 6 \\\\\n",
    "    7 & 8 & 9 \\\\\n",
    "    10 & 11 & 12 \\\\\n",
    "\\end{pmatrix} = \\mathbb{R}^{4\\times\\boldsymbol{3}} $\n",
    "</div></p>\n",
    "\n",
    "<p><div>\n",
    "$\\boldsymbol{U} =\n",
    "\\begin{pmatrix}\n",
    "    -2 & 4 \\\\\n",
    "    -6 & 8 \\\\\n",
    "    -10 & 12 \\\\\n",
    "\\end{pmatrix} = \\mathbb{R}^{\\boldsymbol{3}\\times{2}} $\n",
    "</div></p>\n",
    "\n",
    "\n",
    "$\\boldsymbol{T}_{n} = \\boldsymbol{U}_{m}$\n",
    "\n",
    "The product matrix produced when multiplying ${\\boldsymbol{T}}^{\\boldsymbol{4}x3}$ ${\\boldsymbol{U}^{3x\\boldsymbol{2}}}$ will have the size $m = {4}$ , n = ${2}$\n",
    "\n",
    "[associative]: https://www.mathwarehouse.com/dictionary/A-words/definition-of-associative-property.php\n",
    "[commutative]: https://demonstrations.wolfram.com/TheCommutativePropertyOfMultiplication/\n"
   ]
  },
  {
   "cell_type": "code",
   "execution_count": 45,
   "metadata": {},
   "outputs": [
    {
     "data": {
      "text/plain": [
       "array([[ 1,  2,  3],\n",
       "       [ 4,  5,  6],\n",
       "       [ 7,  8,  9],\n",
       "       [10, 11, 12]])"
      ]
     },
     "execution_count": 45,
     "metadata": {},
     "output_type": "execute_result"
    }
   ],
   "source": [
    "# create a range from 1 to 12 and reshape it into\n",
    "# a 4x3 matrix\n",
    "t = np.arange(1,13).reshape(4,3)\n",
    "t"
   ]
  },
  {
   "cell_type": "markdown",
   "metadata": {},
   "source": [
    "Next we can construct the $\\boldsymbol{U}$ matrix by using a [list compreshesion] in Python. \n",
    "\n",
    "[list compreshesion]: https://www.programiz.com/python-programming/list-comprehension"
   ]
  },
  {
   "cell_type": "code",
   "execution_count": 46,
   "metadata": {},
   "outputs": [
    {
     "data": {
      "text/plain": [
       "array([[ -2,   4],\n",
       "       [ -6,   8],\n",
       "       [-10,  12]])"
      ]
     },
     "execution_count": 46,
     "metadata": {},
     "output_type": "execute_result"
    }
   ],
   "source": [
    "# create a range in steps of 2 from 2 to 12\n",
    "u = np.arange(2,14,2)\n",
    "\n",
    "# use a list comprehension to convert every other\n",
    "# index in the array to a nagative\n",
    "u = [ i if idx % 2 else i * -1 for idx, i in enumerate(u)]\n",
    "u = np.array(u).reshape(3,2)\n",
    "u"
   ]
  },
  {
   "cell_type": "code",
   "execution_count": 47,
   "metadata": {},
   "outputs": [
    {
     "data": {
      "text/plain": [
       "(4, 3)"
      ]
     },
     "execution_count": 47,
     "metadata": {},
     "output_type": "execute_result"
    }
   ],
   "source": [
    "t.shape"
   ]
  },
  {
   "cell_type": "code",
   "execution_count": 48,
   "metadata": {},
   "outputs": [
    {
     "data": {
      "text/plain": [
       "(3, 2)"
      ]
     },
     "execution_count": 48,
     "metadata": {},
     "output_type": "execute_result"
    }
   ],
   "source": [
    "u.shape"
   ]
  },
  {
   "cell_type": "code",
   "execution_count": 49,
   "metadata": {},
   "outputs": [
    {
     "data": {
      "text/plain": [
       "array([[ -44,   56],\n",
       "       [ -98,  128],\n",
       "       [-152,  200],\n",
       "       [-206,  272]])"
      ]
     },
     "execution_count": 49,
     "metadata": {},
     "output_type": "execute_result"
    }
   ],
   "source": [
    "d = np.matmul(t,u)\n",
    "d"
   ]
  },
  {
   "cell_type": "code",
   "execution_count": 50,
   "metadata": {},
   "outputs": [
    {
     "data": {
      "text/plain": [
       "array([[ -44,   56],\n",
       "       [ -98,  128],\n",
       "       [-152,  200],\n",
       "       [-206,  272]])"
      ]
     },
     "execution_count": 50,
     "metadata": {},
     "output_type": "execute_result"
    }
   ],
   "source": [
    "# alternative\n",
    "t @ u"
   ]
  },
  {
   "cell_type": "code",
   "execution_count": 51,
   "metadata": {},
   "outputs": [
    {
     "data": {
      "text/plain": [
       "(4, 2)"
      ]
     },
     "execution_count": 51,
     "metadata": {},
     "output_type": "execute_result"
    }
   ],
   "source": [
    "d.shape"
   ]
  },
  {
   "cell_type": "code",
   "execution_count": 52,
   "metadata": {},
   "outputs": [
    {
     "data": {
      "text/plain": [
       "array([[ -44,   56],\n",
       "       [ -98,  128],\n",
       "       [-152,  200],\n",
       "       [-206,  272]])"
      ]
     },
     "execution_count": 52,
     "metadata": {},
     "output_type": "execute_result"
    }
   ],
   "source": [
    "# The @ operator calls the array's __matmul__ method\n",
    "t @ u"
   ]
  },
  {
   "cell_type": "markdown",
   "metadata": {},
   "source": [
    "### Vector Dot Product\n",
    "\n",
    "[Matrix vector products] will always be a row or column vector.  \n",
    "\n",
    "<p><div>\n",
    "$\n",
    "\\begin{pmatrix}\n",
    "    a_{11} & a_{12} & a_{13} \\\\\n",
    "    a_{21} & a_{22} & a_{23} \\\\\n",
    "    a_{31} & a_{32} & a_{33} \\\\\n",
    "    a_{41} & a_{42} & a_{43} \\\\\n",
    "\\end{pmatrix}\n",
    "\\begin{bmatrix}\n",
    "    x_1 \\\\\n",
    "    x_2 \\\\\n",
    "    x_3 \\\\\n",
    "\\end{bmatrix} =\n",
    "\\begin{bmatrix}\n",
    "    a_{11}x_1 + a_{12}x_2 + a_{13}x_3 \\\\\n",
    "    a_{21}x_1 + a_{22}x_2 + a_{23}x_3 \\\\\n",
    "    a_{31}x_1 + a_{32}x_2 + a_{33}x_3 \\\\\n",
    "    a_{41}x_1 + a_{42}x_2 + a_{43}x_3 \\\\\n",
    "\\end{bmatrix} =\n",
    "\\begin{bmatrix}\n",
    "    b_1 \\\\\n",
    "    b_2 \\\\\n",
    "    b_3 \\\\\n",
    "    b_4 \\\\\n",
    "\\end{bmatrix}\n",
    "$\n",
    "</div></p>\n",
    "\n",
    "<p><div>\n",
    "$\n",
    "\\underbrace{\n",
    "\\begin{pmatrix}\n",
    "    2 & 4 & 6 \\\\\n",
    "    8 & 10 & 12 \\\\\n",
    "    14 & 16 & 18 \\\\\n",
    "    20 & 22 & 24 \\\\\n",
    "\\end{pmatrix}}_{\\boldsymbol{A}}\n",
    "\\underbrace{\n",
    "\\begin{bmatrix}\n",
    "    1.5 \\\\\n",
    "    1 \\\\\n",
    "    .5 \\\\\n",
    "\\end{bmatrix}\n",
    "}_{\\vec{x}}\n",
    "= \\underbrace{\n",
    "\\begin{bmatrix}\n",
    "    10 \\\\\n",
    "    28 \\\\\n",
    "    46 \\\\\n",
    "    64 \\\\\n",
    "\\end{bmatrix}\n",
    "}_{\\boldsymbol{A}\\vec{x}}\n",
    "$\n",
    "</div></p>\n",
    "\n",
    "[Matrix vector products]: https://www.khanacademy.org/math/linear-algebra/vectors-and-spaces/null-column-space/v/matrix-vector-products"
   ]
  },
  {
   "cell_type": "code",
   "execution_count": 53,
   "metadata": {},
   "outputs": [
    {
     "data": {
      "text/plain": [
       "matrix([[ 2,  4,  6],\n",
       "        [ 8, 10, 12],\n",
       "        [14, 16, 18],\n",
       "        [20, 22, 24]])"
      ]
     },
     "execution_count": 53,
     "metadata": {},
     "output_type": "execute_result"
    }
   ],
   "source": [
    "a = np.matrix(np.arange(2,26,2).reshape(4,3))\n",
    "a"
   ]
  },
  {
   "cell_type": "code",
   "execution_count": 54,
   "metadata": {},
   "outputs": [
    {
     "data": {
      "text/plain": [
       "matrix([[ 1.5],\n",
       "        [ 1. ],\n",
       "        [ 0.5]])"
      ]
     },
     "execution_count": 54,
     "metadata": {},
     "output_type": "execute_result"
    }
   ],
   "source": [
    "x = np.matrix(np.flip(np.arange(.5,2,.5), axis=0)).T\n",
    "x"
   ]
  },
  {
   "cell_type": "code",
   "execution_count": 55,
   "metadata": {},
   "outputs": [
    {
     "data": {
      "text/plain": [
       "matrix([[ 10.],\n",
       "        [ 28.],\n",
       "        [ 46.],\n",
       "        [ 64.]])"
      ]
     },
     "execution_count": 55,
     "metadata": {},
     "output_type": "execute_result"
    }
   ],
   "source": [
    "# vector dot product\n",
    "b = a @ x\n",
    "b"
   ]
  },
  {
   "cell_type": "code",
   "execution_count": 56,
   "metadata": {},
   "outputs": [
    {
     "data": {
      "text/plain": [
       "matrix([[1, 2, 3, 4, 5]])"
      ]
     },
     "execution_count": 56,
     "metadata": {},
     "output_type": "execute_result"
    }
   ],
   "source": [
    "d = np.matrix(np.arange(1,6).reshape(1,5))\n",
    "d"
   ]
  },
  {
   "cell_type": "code",
   "execution_count": 57,
   "metadata": {},
   "outputs": [
    {
     "data": {
      "text/plain": [
       "matrix([[1],\n",
       "        [2],\n",
       "        [3],\n",
       "        [4],\n",
       "        [5]])"
      ]
     },
     "execution_count": 57,
     "metadata": {},
     "output_type": "execute_result"
    }
   ],
   "source": [
    "w = np.matrix(np.arange(1,6).reshape(5,1))\n",
    "w"
   ]
  },
  {
   "cell_type": "code",
   "execution_count": 58,
   "metadata": {},
   "outputs": [
    {
     "data": {
      "text/plain": [
       "matrix([[55]])"
      ]
     },
     "execution_count": 58,
     "metadata": {},
     "output_type": "execute_result"
    }
   ],
   "source": [
    "d @ w"
   ]
  },
  {
   "cell_type": "code",
   "execution_count": 59,
   "metadata": {},
   "outputs": [
    {
     "data": {
      "text/plain": [
       "matrix([[ 1,  2,  3,  4,  5],\n",
       "        [ 2,  4,  6,  8, 10],\n",
       "        [ 3,  6,  9, 12, 15],\n",
       "        [ 4,  8, 12, 16, 20],\n",
       "        [ 5, 10, 15, 20, 25]])"
      ]
     },
     "execution_count": 59,
     "metadata": {},
     "output_type": "execute_result"
    }
   ],
   "source": [
    "w @ d"
   ]
  },
  {
   "cell_type": "markdown",
   "metadata": {},
   "source": [
    "### Matrix-Vector Multiplication\n",
    "\n",
    "The result of multipling a vector by a matrix or a matrix by a vector will always be a vector.\n",
    "\n",
    "<p><div>\n",
    "$\n",
    "\\begin{pmatrix}\n",
    "    a & b & c \\\\\n",
    "    d & e & f \\\\\n",
    "    g & h & i \\\\\n",
    "\\end{pmatrix}\n",
    "\\vec{\n",
    "\\begin{bmatrix}\n",
    "    2 \\\\\n",
    "    3 \\\\\n",
    "    4 \\\\\n",
    "\\end{bmatrix}}\n",
    "=\n",
    "\\vec{\n",
    "\\begin{bmatrix}\n",
    "    2a+3b+4c \\\\\n",
    "    2d+3e+4f \\\\\n",
    "    2g+3h+4i \\\\\n",
    "\\end{bmatrix}\n",
    "}\n",
    "$\n",
    "</div></p>\n",
    "\n",
    "<p><div>\n",
    "$\n",
    "\\vec{\n",
    "\\begin{bmatrix}\n",
    "    2 & 3 & 4 \\\\\n",
    "\\end{bmatrix}\n",
    "}\n",
    "\\begin{pmatrix}\n",
    "    a & b & c \\\\\n",
    "    d & e & f \\\\\n",
    "    g & h & i \\\\\n",
    "\\end{pmatrix}\n",
    "=\n",
    "\\vec{\n",
    "\\begin{bmatrix}\n",
    "    2a+3d+4g \\\\\n",
    "    2b+3e+4h \\\\\n",
    "    2c+3f+4i \\\\\n",
    "\\end{bmatrix}\n",
    "}\n",
    "$\n",
    "</div></p>\n"
   ]
  },
  {
   "cell_type": "code",
   "execution_count": 60,
   "metadata": {},
   "outputs": [
    {
     "data": {
      "text/plain": [
       "matrix([[2],\n",
       "        [3],\n",
       "        [4]])"
      ]
     },
     "execution_count": 60,
     "metadata": {},
     "output_type": "execute_result"
    }
   ],
   "source": [
    "# construct a column vector with numpy using octave / matlab style \n",
    "v = np.matrix('2; 3; 4')\n",
    "v"
   ]
  },
  {
   "cell_type": "code",
   "execution_count": 61,
   "metadata": {},
   "outputs": [
    {
     "data": {
      "text/plain": [
       "array([[1, 2, 3],\n",
       "       [4, 5, 6],\n",
       "       [7, 8, 9]])"
      ]
     },
     "execution_count": 61,
     "metadata": {},
     "output_type": "execute_result"
    }
   ],
   "source": [
    "a = np.arange(1,10).reshape(3,3)\n",
    "a"
   ]
  },
  {
   "cell_type": "code",
   "execution_count": 62,
   "metadata": {},
   "outputs": [
    {
     "data": {
      "text/plain": [
       "matrix([[20],\n",
       "        [47],\n",
       "        [74]])"
      ]
     },
     "execution_count": 62,
     "metadata": {},
     "output_type": "execute_result"
    }
   ],
   "source": [
    "a * v"
   ]
  },
  {
   "cell_type": "code",
   "execution_count": 63,
   "metadata": {},
   "outputs": [
    {
     "data": {
      "text/plain": [
       "matrix([[42, 51, 60]])"
      ]
     },
     "execution_count": 63,
     "metadata": {},
     "output_type": "execute_result"
    }
   ],
   "source": [
    "# transpose column vector v into a row vector\n",
    "v.T * a"
   ]
  },
  {
   "cell_type": "markdown",
   "metadata": {},
   "source": [
    "### Geometric Vector Transformation\n",
    "\n",
    "The following examples demonstrate 2d and 3d transformations.\n",
    "\n",
    "#### 2d Transformation\n",
    "\n",
    "Transforming a 2d vector with a 2x2 matrix:\n",
    "\n",
    "$\n",
    "\\begin{pmatrix}\n",
    "    1 & -2 \\\\ \n",
    "    3 & -1.5 \\\\\n",
    "\\end{pmatrix}\n",
    "\\vec{\\begin{bmatrix}\n",
    "    3 \\\\\n",
    "    4 \\\\\n",
    "\\end{bmatrix}}\n",
    "=\n",
    "\\vec{\\begin{bmatrix}\n",
    "    (3\\times{1})+(4\\times{-2})  \\\\\n",
    "    (3\\times{3})+(4\\times{-1.5})\\\\\n",
    "\\end{bmatrix}}\n",
    "=\n",
    "\\vec{\\begin{bmatrix}\n",
    "    -5\\\\\n",
    "    3\\\\\n",
    "\\end{bmatrix}}\n",
    "$\n",
    "</div></p>"
   ]
  },
  {
   "cell_type": "code",
   "execution_count": 64,
   "metadata": {},
   "outputs": [
    {
     "data": {
      "text/plain": [
       "-5"
      ]
     },
     "execution_count": 64,
     "metadata": {},
     "output_type": "execute_result"
    }
   ],
   "source": [
    "(3 * 1) + (4 * -2)"
   ]
  },
  {
   "cell_type": "code",
   "execution_count": 65,
   "metadata": {},
   "outputs": [
    {
     "data": {
      "text/plain": [
       "matrix([[3],\n",
       "        [4]])"
      ]
     },
     "execution_count": 65,
     "metadata": {},
     "output_type": "execute_result"
    }
   ],
   "source": [
    "# a vector at position 3, 4\n",
    "v = np.matrix('3 ;4')\n",
    "v"
   ]
  },
  {
   "cell_type": "code",
   "execution_count": 66,
   "metadata": {},
   "outputs": [
    {
     "data": {
      "image/png": "[encoded data removed]",
      "text/plain": [
       "<Figure size 432x288 with 1 Axes>"
      ]
     },
     "metadata": {},
     "output_type": "display_data"
    }
   ],
   "source": [
    "# plot the vector v in \"standard position\"\n",
    "plt.plot([0,v[0]],[0,v[1]])\n",
    "\n",
    "# create a dashed line in the x axis\n",
    "plt.plot([-10, 10],[0, 0],'k--')\n",
    "\n",
    "# create a dashed line in the y axis\n",
    "plt.plot([0, 0],[-10, 10],'k--')\n",
    "\n",
    "# add some grid lines\n",
    "plt.grid()\n",
    "\n",
    "# fit the axis\n",
    "plt.axis((-10, 10, -10, 10))\n",
    "plt.show()"
   ]
  },
  {
   "cell_type": "code",
   "execution_count": 67,
   "metadata": {},
   "outputs": [
    {
     "data": {
      "text/plain": [
       "matrix([[-5.],\n",
       "        [ 3.]])"
      ]
     },
     "execution_count": 67,
     "metadata": {},
     "output_type": "execute_result"
    }
   ],
   "source": [
    "# create a matrix to be used in transforming the vector v\n",
    "a = np.matrix('1 -2; 3 -1.5')\n",
    "c = a @ v\n",
    "c"
   ]
  },
  {
   "cell_type": "code",
   "execution_count": 68,
   "metadata": {},
   "outputs": [
    {
     "data": {
      "image/png": "[encoded data removed]",
      "text/plain": [
       "<Figure size 432x288 with 1 Axes>"
      ]
     },
     "metadata": {},
     "output_type": "display_data"
    }
   ],
   "source": [
    "# plot the vectors c and c in \"standard position\"\n",
    "plt.plot([0,v[0]],[0,v[1]])\n",
    "plt.plot([0,c[0]],[0,c[1]])\n",
    "\n",
    "# create a dashed lines\n",
    "plt.plot([-10, 10],[0, 0],'k--')\n",
    "plt.plot([0, 0],[-10, 10],'k--')\n",
    "\n",
    "# add some grid lines\n",
    "plt.grid()\n",
    "\n",
    "# fit the axis\n",
    "plt.axis((-10, 10, -10, 10))\n",
    "plt.show()"
   ]
  },
  {
   "cell_type": "markdown",
   "metadata": {},
   "source": [
    "#### 3d Transformation\n",
    "\n",
    "Next, transform a 3d vector with a 3x3 matrix:\n",
    "\n",
    "$\n",
    "\\begin{pmatrix}\n",
    "    1 & -4   & .5 \\\\ \n",
    "    3 & -1.5 & 1.25 \\\\\n",
    "   -1 & .5   & -.5 \\\\\n",
    "\\end{pmatrix}\n",
    "\\vec{\\begin{bmatrix}\n",
    "    3 \\\\\n",
    "    4 \\\\\n",
    "    5 \\\\\n",
    "\\end{bmatrix}}\n",
    "=\n",
    "\\vec{\\begin{bmatrix}\n",
    "    (3\\times{1})+(4\\times{-2})+(5\\times{.5}) \\\\\n",
    "    (3\\times{3})+(4\\times{-1.5})+(5\\times{1.25}) \\\\\n",
    "    (3\\times{-1})+(4\\times{.5})+(5\\times{-.5}) \\\\\n",
    "\\end{bmatrix}}\n",
    "=\n",
    "\\vec{\\begin{bmatrix}\n",
    "    -10.5\\\\\n",
    "    9.25\\\\\n",
    "    -3.5\n",
    "\\end{bmatrix}}\n",
    "$\n",
    "</div></p>"
   ]
  },
  {
   "cell_type": "code",
   "execution_count": 69,
   "metadata": {},
   "outputs": [
    {
     "data": {
      "text/plain": [
       "matrix([[3],\n",
       "        [4],\n",
       "        [5]])"
      ]
     },
     "execution_count": 69,
     "metadata": {},
     "output_type": "execute_result"
    }
   ],
   "source": [
    "# a vector at position 3, 4, 5\n",
    "v = np.matrix('3 ;4; 5')\n",
    "v"
   ]
  },
  {
   "cell_type": "code",
   "execution_count": 70,
   "metadata": {
    "scrolled": true
   },
   "outputs": [
    {
     "data": {
      "image/png": "[encoded data removed]",
      "text/plain": [
       "<Figure size 432x288 with 1 Axes>"
      ]
     },
     "metadata": {},
     "output_type": "display_data"
    }
   ],
   "source": [
    "# plotting the 3-dimensional vector from the\n",
    "# standard position 0,0,0\n",
    "fig = plt.figure()\n",
    "ax = fig.gca(projection='3d')\n",
    "ax.plot([0, v[0]],[0, v[1]],[0, v[2]])\n",
    "\n",
    "# add some dashed lines across the x, y and z axis\n",
    "ax.plot([0, 0],[0, 0],[-10, 10],'k--')\n",
    "ax.plot([0, 0],[-10, 10],[0, 0],'k--')\n",
    "ax.plot([-10, 10],[0, 0],[0, 0],'k--')\n",
    "plt.show()"
   ]
  },
  {
   "cell_type": "code",
   "execution_count": 71,
   "metadata": {},
   "outputs": [
    {
     "data": {
      "text/plain": [
       "matrix([[ 1.  , -4.  ,  0.5 ],\n",
       "        [ 3.  , -1.5 ,  1.25],\n",
       "        [-1.  ,  0.5 , -0.5 ]])"
      ]
     },
     "execution_count": 71,
     "metadata": {},
     "output_type": "execute_result"
    }
   ],
   "source": [
    "b = np.matrix('1 -4 .5; 3 -1.5 1.25; -1 .5 -.5')\n",
    "b"
   ]
  },
  {
   "cell_type": "code",
   "execution_count": 72,
   "metadata": {},
   "outputs": [
    {
     "data": {
      "text/plain": [
       "matrix([[-10.5 ],\n",
       "        [  9.25],\n",
       "        [ -3.5 ]])"
      ]
     },
     "execution_count": 72,
     "metadata": {},
     "output_type": "execute_result"
    }
   ],
   "source": [
    "c = b @ v\n",
    "c"
   ]
  },
  {
   "cell_type": "code",
   "execution_count": 73,
   "metadata": {},
   "outputs": [
    {
     "data": {
      "image/png": "[encoded data removed]",
      "text/plain": [
       "<Figure size 432x288 with 1 Axes>"
      ]
     },
     "metadata": {},
     "output_type": "display_data"
    }
   ],
   "source": [
    "# plotting the 3-dimensional vector from the\n",
    "# standard position 0,0,0\n",
    "fig = plt.figure()\n",
    "ax = fig.gca(projection='3d')\n",
    "ax.plot([0, v[0]],[0, v[1]],[0, v[2]])\n",
    "ax.plot([0, c[0]],[0, c[1]],[0, c[2]])\n",
    "\n",
    "# add some dashed lines across the x, y and z axis\n",
    "ax.plot([0, 0],[0, 0],[-10, 10],'k--')\n",
    "ax.plot([0, 0],[-10, 10],[0, 0],'k--')\n",
    "ax.plot([-10, 10],[0, 0],[0, 0],'k--')\n",
    "plt.show()"
   ]
  },
  {
   "cell_type": "markdown",
   "metadata": {},
   "source": [
    "### Multiplication with a Diagonal Matrix\n",
    "\n",
    "When a regular matrix ($\\boldsymbol{F}$) multiplies a diagonal matrix ($\\boldsymbol{D}$), it has the effect multiplying each column by the non-zero value in the corresponding diagonal matrix column.\n",
    "\n",
    "<p><div>\n",
    "$\n",
    "\\underbrace{\\begin{pmatrix}\n",
    "    1 & 2 & 3 \\\\\n",
    "    4 & 5 & 6 \\\\\n",
    "    7 & 8 & 9 \\\\\n",
    "\\end{pmatrix}}_{\\boldsymbol{F}}\n",
    "\\underbrace{\\begin{pmatrix}\n",
    "    \\boldsymbol{t} & 0 & 0 \\\\\n",
    "    0 & \\boldsymbol{u} & 0 \\\\\n",
    "    0 & 0 & \\boldsymbol{v} \\\\\n",
    "\\end{pmatrix}}_{\\boldsymbol{D}} = {\n",
    "\\begin{pmatrix}\n",
    "    \\boldsymbol{t}1 & \\boldsymbol{u}2 & \\boldsymbol{v}3 \\\\\n",
    "    \\boldsymbol{t}4 & \\boldsymbol{u}5 & \\boldsymbol{v}6 \\\\\n",
    "    \\boldsymbol{t}7 & \\boldsymbol{u}8 & \\boldsymbol{v}9 \\\\\n",
    "\\end{pmatrix}\n",
    "}\n",
    "$\n",
    "</div></p>\n",
    "\n",
    "When a diagonal matrix ($\\boldsymbol{D}$) multiplies a regular matrix ($\\boldsymbol{F}$), it has the effect multiplying each row by the non-zero value in the corresponding diagonal matrix row.\n",
    "\n",
    "<p><div>\n",
    "$\n",
    "\\underbrace{\\begin{pmatrix}\n",
    "    \\boldsymbol{t} & 0 & 0 \\\\\n",
    "    0 & \\boldsymbol{u} & 0 \\\\\n",
    "    0 & 0 & \\boldsymbol{v} \\\\\n",
    "\\end{pmatrix}}_{\\boldsymbol{D}}\n",
    "\\underbrace{\\begin{pmatrix}\n",
    "    1 & 2 & 3 \\\\\n",
    "    4 & 5 & 6 \\\\\n",
    "    7 & 8 & 9 \\\\\n",
    "\\end{pmatrix}}_{\\boldsymbol{F}} = \n",
    "{\\begin{pmatrix}\n",
    "    \\boldsymbol{t}1 & \\boldsymbol{t}2 & \\boldsymbol{t}3 \\\\\n",
    "    \\boldsymbol{u}4 & \\boldsymbol{u}5 & \\boldsymbol{u}6 \\\\\n",
    "    \\boldsymbol{v}7 & \\boldsymbol{v}8 & \\boldsymbol{v}9 \\\\\n",
    "\\end{pmatrix}}\n",
    "$\n",
    "</div></p>"
   ]
  },
  {
   "cell_type": "code",
   "execution_count": 74,
   "metadata": {},
   "outputs": [
    {
     "data": {
      "text/plain": [
       "array([[1, 2, 3],\n",
       "       [4, 5, 6],\n",
       "       [7, 8, 9]])"
      ]
     },
     "execution_count": 74,
     "metadata": {},
     "output_type": "execute_result"
    }
   ],
   "source": [
    "# create a 3x3 matrix with values from 1 to 10\n",
    "f = np.arange(1,10).reshape(3,3)\n",
    "f"
   ]
  },
  {
   "cell_type": "code",
   "execution_count": 75,
   "metadata": {},
   "outputs": [
    {
     "data": {
      "text/plain": [
       "array([[2, 0, 0],\n",
       "       [0, 4, 0],\n",
       "       [0, 0, 5]])"
      ]
     },
     "execution_count": 75,
     "metadata": {},
     "output_type": "execute_result"
    }
   ],
   "source": [
    "# create a diagonal matrix \n",
    "d = np.diag([2,4,5])\n",
    "d"
   ]
  },
  {
   "cell_type": "code",
   "execution_count": 76,
   "metadata": {},
   "outputs": [
    {
     "data": {
      "text/plain": [
       "array([[ 2,  4,  6],\n",
       "       [16, 20, 24],\n",
       "       [35, 40, 45]])"
      ]
     },
     "execution_count": 76,
     "metadata": {},
     "output_type": "execute_result"
    }
   ],
   "source": [
    "d @ f"
   ]
  },
  {
   "cell_type": "code",
   "execution_count": 77,
   "metadata": {},
   "outputs": [
    {
     "data": {
      "text/plain": [
       "array([[ 2,  8, 15],\n",
       "       [ 8, 20, 30],\n",
       "       [14, 32, 45]])"
      ]
     },
     "execution_count": 77,
     "metadata": {},
     "output_type": "execute_result"
    }
   ],
   "source": [
    "f @ d"
   ]
  },
  {
   "cell_type": "markdown",
   "metadata": {},
   "source": [
    "### Order of Operations\n",
    "\n",
    "Reverse the matrix order when performing an operation (such as transpose) on multiplied matricies.\n",
    "\n",
    "$\\boldsymbol{X} = (\\boldsymbol{A}\\boldsymbol{B}\\boldsymbol{C})^T = \\boldsymbol{C}^T\\boldsymbol{B}^T\\boldsymbol{A}^T$"
   ]
  },
  {
   "cell_type": "code",
   "execution_count": 78,
   "metadata": {},
   "outputs": [
    {
     "name": "stdout",
     "output_type": "stream",
     "text": [
      "matrix A =\n",
      "[[1 2 3]\n",
      " [4 5 6]\n",
      " [7 8 9]]\n",
      "\n",
      "matrix B =\n",
      "[[4 2 1]\n",
      " [7 8 2]\n",
      " [1 2 3]]\n",
      "\n",
      "matrix C =\n",
      "[[5 4 3]\n",
      " [2 1 2]\n",
      " [3 4 5]]\n",
      "\n"
     ]
    }
   ],
   "source": [
    "# create 3, 3x3 matricies using octave/matlab style notation\n",
    "a = np.matrix('1 2 3; 4 5 6; 7 8 9')\n",
    "b = np.matrix('4 2 1; 7 8 2; 1 2 3')\n",
    "c = np.matrix('5 4 3; 2 1 2; 3 4 5')\n",
    "print(f'matrix A =\\n{a}\\n\\nmatrix B =\\n{b}\\n\\nmatrix C =\\n{c}\\n')"
   ]
  },
  {
   "cell_type": "code",
   "execution_count": 79,
   "metadata": {},
   "outputs": [
    {
     "data": {
      "text/plain": [
       "matrix([[195, 501, 807],\n",
       "        [164, 416, 668],\n",
       "        [181, 451, 721]])"
      ]
     },
     "execution_count": 79,
     "metadata": {},
     "output_type": "execute_result"
    }
   ],
   "source": [
    "x = (a * b * c).T\n",
    "x"
   ]
  },
  {
   "cell_type": "code",
   "execution_count": 80,
   "metadata": {},
   "outputs": [
    {
     "data": {
      "text/plain": [
       "False"
      ]
     },
     "execution_count": 80,
     "metadata": {},
     "output_type": "execute_result"
    }
   ],
   "source": [
    "np.array_equal(x, (a.T * b.T * c.T))"
   ]
  },
  {
   "cell_type": "code",
   "execution_count": 81,
   "metadata": {},
   "outputs": [
    {
     "data": {
      "text/plain": [
       "True"
      ]
     },
     "execution_count": 81,
     "metadata": {},
     "output_type": "execute_result"
    }
   ],
   "source": [
    "np.array_equal(x, (c.T * b.T * a.T))"
   ]
  },
  {
   "cell_type": "markdown",
   "metadata": {},
   "source": [
    "### Hadamard Multiplication (element-wise)\n",
    "\n",
    "Hadamard multiplication simply multiplies an element in the first matrix by the corresponding element in another. The Hadamard product is [commutative], [associative] and [distributive].\n",
    "\n",
    "<p><div>\n",
    "$\\underbrace{\n",
    "\\begin{pmatrix}\n",
    "    a_{11} & a_{12} \\\\\n",
    "    a_{21} & a_{22} \\\\\n",
    "\\end{pmatrix}\n",
    "}_{\\boldsymbol{A}} \\odot \n",
    "\\underbrace{\\begin{pmatrix}\n",
    "    b_{11} & b_{12} \\\\\n",
    "    b_{21} & d_{22} \\\\\n",
    "\\end{pmatrix}\n",
    "}_{\\boldsymbol{B}} \\odot \n",
    "\\underbrace{\\begin{pmatrix}\n",
    "    c_{11} & c_{12} \\\\\n",
    "    c_{21} & c_{22} \\\\\n",
    "\\end{pmatrix}}_{\\boldsymbol{C}} = \n",
    "\\begin{pmatrix}\n",
    "    a_{11}b_{11}c_{11} & a_{12}b_{12}c_{12} \\\\\n",
    "    a_{21}b_{21}c_{21} & a_{22}b_{22}c_{22} \\\\\n",
    "\\end{pmatrix}\n",
    "$\n",
    "</div></p>\n",
    "\n",
    "<p><div>\n",
    "$\\boldsymbol{A} \\odot \\boldsymbol{B} =  \\boldsymbol{B} \\odot \\boldsymbol{A}$\n",
    "</div></p>\n",
    "\n",
    "<p><div>\n",
    "$\\boldsymbol{A} \\odot (\\boldsymbol{B} \\odot \\boldsymbol{C}) = (\\boldsymbol{A} \\odot \\boldsymbol{B}) \\odot \\boldsymbol{C}$\n",
    "</div></p>\n",
    "\n",
    "[associative]: https://en.wikipedia.org/wiki/Associative_property\n",
    "[commutative]: https://en.wikipedia.org/wiki/Commutative_property\n",
    "[distributive]: https://en.wikipedia.org/wiki/Distributive_property"
   ]
  },
  {
   "cell_type": "code",
   "execution_count": 82,
   "metadata": {},
   "outputs": [
    {
     "name": "stdout",
     "output_type": "stream",
     "text": [
      "matrix A =\n",
      "[[1 2]\n",
      " [3 4]\n",
      " [5 6]]\n",
      "\n",
      "matrix B =\n",
      "[[6 5]\n",
      " [5 4]\n",
      " [4 3]]\n",
      "\n",
      "matrix C =\n",
      "[[4 1]\n",
      " [3 2]\n",
      " [2 1]]\n",
      "\n"
     ]
    }
   ],
   "source": [
    "a = np.matrix('1 2; 3 4; 5 6')\n",
    "b = np.matrix('6 5; 5 4; 4 3')\n",
    "c = np.matrix('4 1; 3 2; 2 1')\n",
    "\n",
    "print(f'matrix A =\\n{a}\\n\\nmatrix B =\\n{b}\\n\\nmatrix C =\\n{c}\\n')"
   ]
  },
  {
   "cell_type": "code",
   "execution_count": 83,
   "metadata": {},
   "outputs": [
    {
     "data": {
      "text/plain": [
       "matrix([[ 6, 10],\n",
       "        [15, 16],\n",
       "        [20, 18]])"
      ]
     },
     "execution_count": 83,
     "metadata": {},
     "output_type": "execute_result"
    }
   ],
   "source": [
    "d = np.multiply(a,b)\n",
    "d"
   ]
  },
  {
   "cell_type": "code",
   "execution_count": 84,
   "metadata": {},
   "outputs": [
    {
     "data": {
      "text/plain": [
       "True"
      ]
     },
     "execution_count": 84,
     "metadata": {},
     "output_type": "execute_result"
    }
   ],
   "source": [
    "np.array_equal(d, np.multiply(b,a))"
   ]
  },
  {
   "cell_type": "markdown",
   "metadata": {},
   "source": [
    "### Vectorizing a Matrix\n",
    "\n",
    "Vectorizing a matrix is always done column-wise:\n",
    "\n",
    "<p><div>$\n",
    "\\begin{pmatrix}\n",
    "    a & b & c \\\\\n",
    "    d & e & f \\\\\n",
    "\\end{pmatrix}\n",
    "= \\vec{\\begin{bmatrix}\n",
    "    a \\\\ d \\\\ b \\\\ e \\\\ c \\\\ f\n",
    "\\end{bmatrix}}\n",
    "$</div></p>"
   ]
  },
  {
   "cell_type": "code",
   "execution_count": 85,
   "metadata": {},
   "outputs": [
    {
     "data": {
      "text/plain": [
       "matrix([[5, 4, 3],\n",
       "        [2, 1, 0]])"
      ]
     },
     "execution_count": 85,
     "metadata": {},
     "output_type": "execute_result"
    }
   ],
   "source": [
    "a = np.matrix('5 4 3; 2 1 0')\n",
    "a"
   ]
  },
  {
   "cell_type": "code",
   "execution_count": 86,
   "metadata": {},
   "outputs": [
    {
     "data": {
      "text/plain": [
       "matrix([[5, 2, 4, 1, 3, 0]])"
      ]
     },
     "execution_count": 86,
     "metadata": {},
     "output_type": "execute_result"
    }
   ],
   "source": [
    "# order=‘F’ means to flatten in column-major order\n",
    "# see: https://docs.scipy.org/doc/numpy/reference/generated/numpy.ndarray.flatten.html\n",
    "a.flatten(order='F')"
   ]
  },
  {
   "cell_type": "markdown",
   "metadata": {},
   "source": [
    "### Frobenius Dot Product (inner product)\n",
    "\n",
    "The Frobenius dot product, or inner product is a element-wise product of two matricies consisting of a single number (as though they are vectors.) The matricies can be square or rectangular, however they must have the same number of rows and columns. \n",
    "\n",
    "<p><div>\n",
    "$\\mathbf {A} ={\\begin{pmatrix}\n",
    "A_{11} & A_{12} & \\cdots &A_{1m} \\\\\n",
    "A_{21} & A_{22} & \\cdots &A_{2m} \\\\\n",
    "\\vdots &\\vdots &\\ddots &\\vdots   \\\\ \n",
    "A_{n1} &A_{n2} &\\cdots &A_{nm}   \\\\\n",
    "\\end{pmatrix}} \\,, \\quad \\mathbf {B} ={\\begin{pmatrix}B_{11}&B_{12}&\\cdots &B_{1m}\\\\B_{21}&B_{22}&\\cdots &B_{2m}\\\\\\vdots &\\vdots &\\ddots &\\vdots \\\\B_{n1}&B_{n2}&\\cdots &B_{nm}\\\\\\end{pmatrix}}$\n",
    "</div></p>\n",
    "\n",
    "<p><div>\n",
    "$\\langle \\mathbf{A}, \\mathbf{B} \\rangle_\\mathrm{F} =\\sum_{i,j}A_{ij} B_{ij} \\,, = \\mathrm{tr}\\left(\\mathbf{A}^T \\mathbf{B}\\right)$\n",
    "</div></p>\n",
    "\n",
    "see [Frobenius inner product on Wikipedia](https://en.wikipedia.org/wiki/Frobenius_inner_product) for a detailed explination.\n",
    "\n",
    "The Frobenius inner product is a sum over all the elements in a Hadamard (element-wise) multiplication.\n",
    "\n",
    "<p><div>\n",
    "$\n",
    "\\sum^m_{i=1}\\sum^n_{j=1}\\left(\n",
    "\\underbrace{\\begin{pmatrix}\n",
    "    1 & 2 & 3 & 4 \\\\\n",
    "    5 & 6 & 7 & 8 \\\\\n",
    "    9 & 10 & 11 & 12 \\\\\n",
    "\\end{pmatrix}}_{\\boldsymbol{A}}\n",
    "\\odot \n",
    "\\underbrace{\\begin{pmatrix}\n",
    "    1 & 1.25 & 1.5 & 1.75 \\\\\n",
    "    2 & 2.25 & 2.5 & 2.75 \\\\\n",
    "    3 & 3.25 & 3.5 & 3.75 \\\\\n",
    "\\end{pmatrix}}_{\\boldsymbol{B}}\n",
    "\\right)_{ij} = 221\n",
    "$\n",
    "</div></p>\n",
    "\n"
   ]
  },
  {
   "cell_type": "code",
   "execution_count": 87,
   "metadata": {},
   "outputs": [],
   "source": [
    "a = np.arange(1,13).reshape(3,4)\n",
    "b = np.arange(1,4,.25).reshape(3,4)"
   ]
  },
  {
   "cell_type": "code",
   "execution_count": 88,
   "metadata": {},
   "outputs": [
    {
     "data": {
      "text/plain": [
       "221.0"
      ]
     },
     "execution_count": 88,
     "metadata": {},
     "output_type": "execute_result"
    }
   ],
   "source": [
    "# sum over Hadamard (element-wise) multiplication\n",
    "# not as computationaly effecient as other methods below\n",
    "np.multiply(a, b).sum()"
   ]
  },
  {
   "cell_type": "markdown",
   "metadata": {},
   "source": [
    "The Frobenius inner product can also be determined by the dot product of vectorized matricies.\n",
    "\n",
    "<p><div>\n",
    "$\n",
    "vec\\left(\n",
    "\\underbrace{\\begin{bmatrix}\n",
    "    1 & 2 & 3 & 4 \\\\\n",
    "    5 & 6 & 7 & 8 \\\\\n",
    "    9 & 10 & 11 & 12 \\\\\n",
    "\\end{bmatrix}}_{\\boldsymbol{A}}\n",
    "\\right)\n",
    "\\cdot \n",
    "vec\\left(\n",
    "\\underbrace{\\begin{bmatrix}\n",
    "    1 & 1.25 & 1.5 & 1.75 \\\\\n",
    "    2 & 2.25 & 2.5 & 2.75 \\\\\n",
    "    3 & 3.25 & 3.5 & 3.75 \\\\\n",
    "\\end{bmatrix}}_{\\boldsymbol{B}}\n",
    "\\right) = \n",
    "\\vec{\\begin{bmatrix}\n",
    "    1 \\\\ 5 \\\\ 9 \\\\ 2 \\\\ 6 \\\\ 10 \\\\ 3 \\\\ 7 \\\\ 11 \\\\ 8 \\\\ 8 \\\\ 12\n",
    "\\end{bmatrix}}\n",
    "\\cdot\n",
    "\\vec{\\begin{bmatrix}\n",
    "    1 \\\\ 2 \\\\ 3 \\\\ 1.25 \\\\ 2.25 \\\\ 3.25 \\\\ 1.5 \\\\ 2.5 \\\\ 3.5 \\\\ 1.75 \\\\ 2.75 \\\\ 3.75\n",
    "\\end{bmatrix}} = 221\n",
    "$\n",
    "</div></p>"
   ]
  },
  {
   "cell_type": "code",
   "execution_count": 89,
   "metadata": {},
   "outputs": [
    {
     "data": {
      "text/plain": [
       "array([ 1.  ,  2.  ,  3.  ,  1.25,  2.25,  3.25,  1.5 ,  2.5 ,  3.5 ,\n",
       "        1.75,  2.75,  3.75])"
      ]
     },
     "execution_count": 89,
     "metadata": {},
     "output_type": "execute_result"
    }
   ],
   "source": [
    "b.flatten(order='F').T"
   ]
  },
  {
   "cell_type": "code",
   "execution_count": 90,
   "metadata": {},
   "outputs": [
    {
     "data": {
      "text/plain": [
       "221.0"
      ]
     },
     "execution_count": 90,
     "metadata": {},
     "output_type": "execute_result"
    }
   ],
   "source": [
    "# Frobenius product using vectors\n",
    "np.dot( a.flatten(order='F'),b.flatten(order='F') )"
   ]
  },
  {
   "cell_type": "markdown",
   "metadata": {},
   "source": [
    "Calculating the trace of $\\mathbf{A}^T \\mathbf{B}$ is more computationaly effecient than the methods above.\n",
    "\n",
    "<p><div>\n",
    "$\\mathrm{tr}\\left(\n",
    "\\underbrace{\\begin{pmatrix}\n",
    "    1 & 5 & 9 \\\\\n",
    "    2 & 6 & 10 \\\\\n",
    "    3 & 7 & 11 \\\\\n",
    "    4 & 8 & 12 \\\\\n",
    "\\end{pmatrix}}_{\\mathbf{A}^T}\n",
    "\\underbrace{\\begin{pmatrix}\n",
    "    1 & 1.25 & 1.5 & 1.75 \\\\\n",
    "    2 & 2.25 & 2.5 & 2.75 \\\\\n",
    "    3 & 3.25 & 3.5 & 3.75 \\\\\n",
    "\\end{pmatrix}}_{\\mathbf{B}}\n",
    "\\right) = \\underbrace{\\sum^n_{i,j=1}\\begin{pmatrix}\n",
    " \\boldsymbol{38}  &  41.75 &  45.5 &  49.25 \\\\\n",
    " 44  &  \\boldsymbol{48.5}  &  53   &  57.5  \\\\\n",
    " 50  &  55.25 &  \\boldsymbol{60.5} &  65.75 \\\\\n",
    " 56  &  62    &  68  &  \\boldsymbol{74}   \\\\\n",
    "\\end{pmatrix}_{ij}}_{trace} = 221\n",
    "$\n",
    "</div></p>"
   ]
  },
  {
   "cell_type": "code",
   "execution_count": 91,
   "metadata": {},
   "outputs": [
    {
     "data": {
      "text/plain": [
       "221.0"
      ]
     },
     "execution_count": 91,
     "metadata": {},
     "output_type": "execute_result"
    }
   ],
   "source": [
    "# Frobenius product using trace\n",
    "# perfered method for computational performance\n",
    "np.trace( a.T@b )"
   ]
  },
  {
   "cell_type": "markdown",
   "metadata": {},
   "source": [
    "### Forbenius Norm (Euclidean Norm)\n",
    "\n",
    "The norm of a matrix is the square root of the Forbenius dot product with itself.\n",
    "\n",
    "<p><div>\n",
    "$\n",
    "norm\\left(\\mathbf{A}\\right) =\n",
    "\\sqrt{\\langle\\mathbf{A},\\mathbf{A}\\rangle_F} =\n",
    "\\sqrt{\\left(\\mathbf{A}^T\\mathbf{A}\\right)}\n",
    "$\n",
    "</div></p>\n"
   ]
  },
  {
   "cell_type": "code",
   "execution_count": 92,
   "metadata": {},
   "outputs": [
    {
     "data": {
      "text/plain": [
       "25.495097567963924"
      ]
     },
     "execution_count": 92,
     "metadata": {},
     "output_type": "execute_result"
    }
   ],
   "source": [
    "np.sqrt( np.trace( a.T@a ) )"
   ]
  },
  {
   "cell_type": "code",
   "execution_count": 93,
   "metadata": {},
   "outputs": [
    {
     "data": {
      "text/plain": [
       "25.495097567963924"
      ]
     },
     "execution_count": 93,
     "metadata": {},
     "output_type": "execute_result"
    }
   ],
   "source": [
    "np.linalg.norm(a, 'fro')"
   ]
  },
  {
   "cell_type": "markdown",
   "metadata": {},
   "source": [
    "## Rank\n",
    "\n",
    "The rank $rank\\left(\\mathbf{A}\\right) = r\\left(\\mathbf{A}\\right)$ of a matrix is the number dimentions of information, specifically the number of linearly independent rows or columns. Rank reveals the amount of information contained in a matrix and is always a non-negative integer as it is related to the dimentionality of the matrix. \n",
    "\n",
    "**Rules**\n",
    "- $rank\\left(\\mathbf{A}\\right) \\leq min\\left({m},{n}\\right)$\n",
    "- $rank\\left(\\mathbf{A}+\\mathbf{B}\\right) \\leq rank\\left(\\mathbf{A}\\right) + rank\\left(\\mathbf{B}\\right)$\n",
    "- $rank\\left(\\mathbf{AB}\\right) \\leq min\\left( rank\\left(\\mathbf{A}\\right), rank\\left(\\mathbf{B}\\right) \\right)$\n",
    "- $rank\\left(\\mathbf{A}\\right) = rank\\left(\\mathbf{A^T}\\mathbf{A}\\right) = rank\\left(\\mathbf{A^T}\\right)  = rank\\left(\\mathbf{A}\\mathbf{A^T}\\right)$\n",
    "\n",
    "**Types**:\n",
    "- $rank\\underset{{m}\\times{m}}{\\left(\\mathbf{A}\\right)} = {m} \\implies $ Full Rank\n",
    "- $rank\\underset{{m}\\gt{n}}{\\left(\\mathbf{A}\\right)} = {n} \\implies $ Full Column Rank\n",
    "- $rank\\underset{{m}\\lt{n}}{\\left(\\mathbf{A}\\right)} = {m} \\implies $ Full Row Rank\n",
    "- $rank\\underset{{m}\\times{n}}{\\left(\\mathbf{A}\\right)} \\lt {m,n} \\implies $ Reduced / Deficient / Degenerate (Singular)"
   ]
  },
  {
   "cell_type": "code",
   "execution_count": 94,
   "metadata": {},
   "outputs": [
    {
     "data": {
      "text/plain": [
       "array([[ 1.76405235,  0.40015721,  0.97873798],\n",
       "       [ 2.2408932 ,  1.86755799, -0.97727788],\n",
       "       [ 0.95008842, -0.15135721, -0.10321885],\n",
       "       [ 0.4105985 ,  0.14404357,  1.45427351],\n",
       "       [ 0.76103773,  0.12167502,  0.44386323],\n",
       "       [ 0.33367433,  1.49407907, -0.20515826]])"
      ]
     },
     "execution_count": 94,
     "metadata": {},
     "output_type": "execute_result"
    }
   ],
   "source": [
    "np.random.seed(0)\n",
    "a = np.random.randn(6,3)\n",
    "a"
   ]
  },
  {
   "cell_type": "code",
   "execution_count": 95,
   "metadata": {},
   "outputs": [
    {
     "data": {
      "text/plain": [
       "3"
      ]
     },
     "execution_count": 95,
     "metadata": {},
     "output_type": "execute_result"
    }
   ],
   "source": [
    "np.linalg.matrix_rank(a)"
   ]
  },
  {
   "cell_type": "code",
   "execution_count": 96,
   "metadata": {},
   "outputs": [
    {
     "data": {
      "text/plain": [
       "array([[1, 1, 1, 1, 1],\n",
       "       [1, 1, 1, 1, 1],\n",
       "       [1, 1, 1, 1, 1],\n",
       "       [1, 1, 1, 1, 1],\n",
       "       [1, 1, 1, 1, 1]])"
      ]
     },
     "execution_count": 96,
     "metadata": {},
     "output_type": "execute_result"
    }
   ],
   "source": [
    "b = np.full((5,5), 1)\n",
    "b"
   ]
  },
  {
   "cell_type": "code",
   "execution_count": 97,
   "metadata": {},
   "outputs": [
    {
     "data": {
      "text/plain": [
       "1"
      ]
     },
     "execution_count": 97,
     "metadata": {},
     "output_type": "execute_result"
    }
   ],
   "source": [
    "np.linalg.matrix_rank(b)"
   ]
  },
  {
   "cell_type": "markdown",
   "metadata": {},
   "source": [
    "Create a matrix of any size of a specific rank. The rank can not be greater than m or n. Using random numbers gives a high assurance that we will get a full rank for the number of columns in $\\mathbf{A}$ and the number of rows in $\\mathbf{B}$."
   ]
  },
  {
   "cell_type": "code",
   "execution_count": 98,
   "metadata": {},
   "outputs": [
    {
     "data": {
      "text/plain": [
       "5"
      ]
     },
     "execution_count": 98,
     "metadata": {},
     "output_type": "execute_result"
    }
   ],
   "source": [
    "rnk = 5\n",
    "m = 50\n",
    "n = 12\n",
    "\n",
    "a = np.random.randn(m,rnk)\n",
    "b = np.random.randn(rnk,n)\n",
    "\n",
    "c = a @ b\n",
    "np.linalg.matrix_rank(c)"
   ]
  },
  {
   "cell_type": "code",
   "execution_count": 99,
   "metadata": {},
   "outputs": [
    {
     "data": {
      "text/plain": [
       "(50, 12)"
      ]
     },
     "execution_count": 99,
     "metadata": {},
     "output_type": "execute_result"
    }
   ],
   "source": [
    "c.shape"
   ]
  },
  {
   "cell_type": "markdown",
   "metadata": {},
   "source": [
    "### Shifting\n",
    "\n",
    "Transform a reduced rank matrix into a full-rank matrix without significant changes to the data.\n",
    "\n",
    "<p><div>\n",
    "$\n",
    "\\widetilde{\\mathbf{A}} = \\mathbf{A} + \\lambda\\mathbf{I}\n",
    "$\n",
    "</div></p>\n",
    "\n",
    "<p><div>\n",
    "$\n",
    "\\underbrace{\\begin{pmatrix}\n",
    "    2 & 4 & 5 \\\\\n",
    "    -2 & -4 & -2 \\\\\n",
    "    2 & 4 & 8 \\\\\n",
    "\\end{pmatrix}}_{\\mathbf{\\underset{A}{Rank 2}}} +\n",
    "\\underset{\\lambda}{.0001}\n",
    "\\underbrace{\\begin{pmatrix}\n",
    "    1 & 0 & 0 \\\\\n",
    "    0 & 1 & 0 \\\\\n",
    "    0 & 0 & 1 \\\\\n",
    "\\end{pmatrix}}_{Identity} = \n",
    "\\underbrace{\\begin{pmatrix}\n",
    "    2.0001 & 4 & 5 \\\\\n",
    "    -2 & -3.9999 & -2 \\\\\n",
    "    2 & 4 & -7.9999 \\\\\n",
    "\\end{pmatrix}}_{\\mathbf{\\underset{B}{Rank 3}}}\n",
    "$\n",
    "</div></p>"
   ]
  },
  {
   "cell_type": "code",
   "execution_count": 100,
   "metadata": {},
   "outputs": [
    {
     "data": {
      "text/plain": [
       "2"
      ]
     },
     "execution_count": 100,
     "metadata": {},
     "output_type": "execute_result"
    }
   ],
   "source": [
    "a = np.matrix('2 4 5; -2 -4 -2; 2 4 -8')\n",
    "np.linalg.matrix_rank(a)"
   ]
  },
  {
   "cell_type": "code",
   "execution_count": 101,
   "metadata": {},
   "outputs": [
    {
     "data": {
      "text/plain": [
       "matrix([[ 2.0001,  4.    ,  5.    ],\n",
       "        [-2.    , -3.9999, -2.    ],\n",
       "        [ 2.    ,  4.    , -7.9999]])"
      ]
     },
     "execution_count": 101,
     "metadata": {},
     "output_type": "execute_result"
    }
   ],
   "source": [
    "b = a + (.0001 * np.eye(3,3))\n",
    "b"
   ]
  },
  {
   "cell_type": "code",
   "execution_count": 102,
   "metadata": {},
   "outputs": [
    {
     "data": {
      "text/plain": [
       "3"
      ]
     },
     "execution_count": 102,
     "metadata": {},
     "output_type": "execute_result"
    }
   ],
   "source": [
    "np.linalg.matrix_rank(b)"
   ]
  },
  {
   "cell_type": "markdown",
   "metadata": {},
   "source": [
    "### Vector Span with Rank\n",
    "\n",
    "Using rank to determine if a set of vectors spans a matrix. If the rank of a matrix increases with the addition of a vector, then the vector was not in the span of the matrix.\n",
    "\n",
    "<p><div>\n",
    "$\n",
    "\\underbrace{\\overset{\\mathbf{A}}{\\begin{pmatrix}\n",
    "    1 & 2 & 3 & 4 \\\\\n",
    "    4 & 5 & 6 & 7 \\\\\n",
    "    8 & 9 & 10 & 11 \\\\\n",
    "\\end{pmatrix}}}_{r=2} \\sqcup\t\n",
    "\\overset{\\vec{v}}{\\begin{bmatrix}\n",
    "    5 \\\\\n",
    "    8 \\\\\n",
    "    12 \\\\\n",
    "\\end{bmatrix}} =\n",
    "\\underbrace{\\overset{\\mathbf{B}}{\\left(\n",
    "\\begin{array}{cccc|c}\n",
    "    1 & 2 & 3 & 4 & 5\\\\\n",
    "    4 & 5 & 6 & 7 & 8\\\\\n",
    "    8 & 9 & 10 & 11 & 12\\\\\n",
    "\\end{array}\\right)}}_{r=2}\n",
    "$\n",
    "</div></p>\n",
    "\n",
    "<p><div>\n",
    "$\n",
    "rank\\left(\\mathbf{B}\\right) = rank\\left(\\mathbf{A}\\right)\n",
    "$\n",
    "</div></p>\n",
    "\n",
    "$\\vec{v}$ is in the span of matrix $\\mathbf{A}$.\n",
    "\n",
    "<p><div>\n",
    "$\n",
    "\\underbrace{\\overset{\\mathbf{A}}{\\begin{pmatrix}\n",
    "    1 & 2 & 3 & 4 \\\\\n",
    "    4 & 5 & 6 & 7 \\\\\n",
    "    8 & 9 & 10 & 11 \\\\\n",
    "\\end{pmatrix}}}_{r=2} \\sqcup\t\n",
    "\\overset{\\vec{w}}{\\begin{bmatrix}\n",
    "    0 \\\\\n",
    "    0 \\\\\n",
    "    2 \\\\\n",
    "\\end{bmatrix}} =\n",
    "\\underbrace{\\overset{\\mathbf{C}}{\\left(\n",
    "\\begin{array}{cccc|c}\n",
    "    1 & 2 & 3 & 4 & 0\\\\\n",
    "    4 & 5 & 6 & 7 & 0\\\\\n",
    "    8 & 9 & 10 & 11 & 2\\\\\n",
    "\\end{array}\\right)}}_{\\mathbf{r=3}}\n",
    "$\n",
    "</div></p>\n",
    "\n",
    "<p><div>\n",
    "$\n",
    "rank\\left(\\mathbf{C}\\right) > rank\\left(\\mathbf{A}\\right)\n",
    "$\n",
    "</div></p>\n",
    "\n",
    "$\\vec{w}$ is **not** in the span of matrix $\\mathbf{A}$."
   ]
  },
  {
   "cell_type": "code",
   "execution_count": 103,
   "metadata": {},
   "outputs": [],
   "source": [
    "v = np.array([[5], [8], [12]])"
   ]
  },
  {
   "cell_type": "code",
   "execution_count": 104,
   "metadata": {},
   "outputs": [
    {
     "data": {
      "text/plain": [
       "matrix([[ 1,  2,  3,  4],\n",
       "        [ 4,  5,  6,  7],\n",
       "        [ 8,  9, 10, 11]])"
      ]
     },
     "execution_count": 104,
     "metadata": {},
     "output_type": "execute_result"
    }
   ],
   "source": [
    "a = np.matrix('1 2 3 4; 4 5 6 7; 8 9 10 11')\n",
    "a"
   ]
  },
  {
   "cell_type": "code",
   "execution_count": 105,
   "metadata": {},
   "outputs": [
    {
     "data": {
      "text/plain": [
       "2"
      ]
     },
     "execution_count": 105,
     "metadata": {},
     "output_type": "execute_result"
    }
   ],
   "source": [
    "np.linalg.matrix_rank(a)"
   ]
  },
  {
   "cell_type": "code",
   "execution_count": 106,
   "metadata": {},
   "outputs": [
    {
     "data": {
      "text/plain": [
       "matrix([[ 1,  2,  3,  4,  5],\n",
       "        [ 4,  5,  6,  7,  8],\n",
       "        [ 8,  9, 10, 11, 12]])"
      ]
     },
     "execution_count": 106,
     "metadata": {},
     "output_type": "execute_result"
    }
   ],
   "source": [
    "b = np.append(a, v, axis=1)\n",
    "b"
   ]
  },
  {
   "cell_type": "code",
   "execution_count": 107,
   "metadata": {},
   "outputs": [
    {
     "data": {
      "text/plain": [
       "2"
      ]
     },
     "execution_count": 107,
     "metadata": {},
     "output_type": "execute_result"
    }
   ],
   "source": [
    "np.linalg.matrix_rank(b)"
   ]
  },
  {
   "cell_type": "code",
   "execution_count": 108,
   "metadata": {},
   "outputs": [
    {
     "data": {
      "text/plain": [
       "3"
      ]
     },
     "execution_count": 108,
     "metadata": {},
     "output_type": "execute_result"
    }
   ],
   "source": [
    "w = np.array([[0], [0], [2]])\n",
    "c = np.append(a, w, axis=1)\n",
    "np.linalg.matrix_rank(c)"
   ]
  },
  {
   "cell_type": "markdown",
   "metadata": {},
   "source": [
    "## Matrix Spaces\n",
    "\n",
    "Is a vector in the space of a matrix, $\\vec{v} \\in C(\\mathbf{A})$, and if not, what is the distance? Answering this question is one of the fundamental methods in statistics and machine learning. \n",
    "\n",
    "Column space of a matrix is often noted as $C(\\mathbf{A})$ and row space as $R(\\mathbf{A})$.\n",
    "\n",
    "\n",
    "<p><div>$\n",
    "R(\\mathbf{A}) = C(\\mathbf{A}^T) = \\{{\\beta_1}{a_1}+...+\\beta_{n}{a}_{n},\\beta \\in \\mathbb{R}\\}\n",
    "$</div></p>  \n",
    "\n",
    "<p><div>$\n",
    "\\vec{\\begin{bmatrix} 1 \\\\ 2 \\\\ 3 \\\\ \\end{bmatrix}}\n",
    "\\vec{\\begin{bmatrix} 4 \\\\ 5 \\\\ 6 \\\\ \\end{bmatrix}}\n",
    "\\vec{\\begin{bmatrix} 7 \\\\ 8 \\\\ 9 \\\\ \\end{bmatrix}} \\implies\n",
    "\\left(\\begin{array}{c|c|c}\n",
    "    1 & 4 & 7 \\\\\n",
    "    2 & 5 & 8 \\\\\n",
    "    3 & 6 & 9 \\\\\n",
    "\\end{array}\\right)\n",
    "$</div></p>\n",
    "\n",
    "Find out if a vector is in the column span of a matrix. \n",
    "\n",
    "<p><div>$\n",
    "\\vec{\\begin{bmatrix} 1 \\\\ 2 \\\\ 3 \\\\ \\end{bmatrix}}\n",
    "\\in\n",
    "C\\left(\\begin{bmatrix} \n",
    "    1 & 4 & 7 \\\\ \n",
    "    2 & 5 & 8 \\\\ \n",
    "    3 & 6 & 9 \\\\\n",
    "\\end{bmatrix}\\right)\n",
    "$</div></p>   "
   ]
  },
  {
   "cell_type": "markdown",
   "metadata": {},
   "source": [
    "## Matrix Inverse"
   ]
  }
 ],
 "metadata": {
  "kernelspec": {
   "display_name": "Python [conda env:anaconda3]",
   "language": "python",
   "name": "conda-env-anaconda3-py"
  },
  "language_info": {
   "codemirror_mode": {
    "name": "ipython",
    "version": 3
   },
   "file_extension": ".py",
   "mimetype": "text/x-python",
   "name": "python",
   "nbconvert_exporter": "python",
   "pygments_lexer": "ipython3",
   "version": "3.6.5"
  }
 },
 "nbformat": 4,
 "nbformat_minor": 2
}
