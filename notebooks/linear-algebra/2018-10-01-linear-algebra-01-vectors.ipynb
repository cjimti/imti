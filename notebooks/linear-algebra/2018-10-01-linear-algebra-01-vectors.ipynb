{
 "cells": [
  {
   "cell_type": "raw",
   "metadata": {},
   "source": [
    "---\n",
    "draft: true\n",
    "layout:   post\n",
    "title:    \"Linear Algebra: Vectors\"\n",
    "subtitle: \"Linear Algebra Crash Course for Programmers Part 1 of 9\"\n",
    "date:     2018-10-01\n",
    "author:   \"Craig Johnston\"\n",
    "URL:      \"linear-algebra-vectors/\"\n",
    "image:    \"/img/post/paper-vector.jpg\"\n",
    "twitter_image:  \"/img/post/paper-vector_876_438.jpg\"\n",
    "tags:\n",
    "- Linear Algebra\n",
    "- Math\n",
    "- Python\n",
    "- Numpy\n",
    "- Vectors\n",
    "series:\n",
    "- Linear Algebra Crash Course\n",
    "---"
   ]
  },
  {
   "cell_type": "markdown",
   "metadata": {},
   "source": [
    "This article on **vectors** is part of an ongoing crash course on linear algebra programming, demonstrating concepts and implementations in Python. The following examples will demonstrate some of the algebraic and geometric interpretations of a vector using Python. A vector is an ordered list of numbers, represented in row or column form.\n",
    "\n",
    "> Python examples in this article make use of the [Numpy] library. Read my article [Python Data Essentials - Numpy] if you want a quick overview on this important Python library. Visualizations are accomplished with the [Matplotlib] Python library. For a beginners guide to [Matplotlib] might try my article [Python Data Essentials - Matplotlib and Seaborn]\n",
    "\n",
    "[numpy]: https://imti.co/python-data-essentials-numpy/\n",
    "[Python Data Essentials - Numpy]: https://imti.co/python-data-essentials-numpy/\n",
    "[Matplotlib]: https://imti.co/python-data-essentials-matplotlib-seaborn/\n",
    "[Python Data Essentials - Matplotlib and Seaborn]: https://imti.co/python-data-essentials-matplotlib-seaborn/"
   ]
  },
  {
   "cell_type": "code",
   "execution_count": 3,
   "metadata": {},
   "outputs": [],
   "source": [
    "import numpy as np\n",
    "import matplotlib.pyplot as plt\n",
    "from mpl_toolkits.mplot3d import Axes3D"
   ]
  },
  {
   "cell_type": "markdown",
   "metadata": {},
   "source": [
    "## Algebraic vs Geometric Interpretations\n",
    "\n",
    "Vectors are a list of numbers containing metrics or coordinates. Both algebraic or geometric intuitions may be used to represent vectors. Each number inside a vector is considered an **element** and the order of elements in a vector is important. The $\\mathbb{R}$ symbol denotes a [Real number], and in this example, two real numbers are created with a row vector.\n",
    "\n",
    "[Real number]:https://en.wikipedia.org/wiki/Real_number\n",
    "\n",
    "### An $\\mathbb{R}^2$ row vector\n",
    "$\n",
    "\\vec{va} = \n",
    "\\left[\n",
    "\\begin{array}{ccc}\n",
    "    10 & -20 \\\\\n",
    "\\end{array}\n",
    "\\right]\n",
    "$\n",
    "\n",
    "In Matlab / Octave:\n",
    "```octave\n",
    "va = [ 10 -20 ];\n",
    "```"
   ]
  },
  {
   "cell_type": "code",
   "execution_count": 7,
   "metadata": {},
   "outputs": [
    {
     "name": "stdout",
     "output_type": "stream",
     "text": [
      "\n",
      "[ 10 -20]\n",
      "\n",
      " type: <class 'numpy.ndarray'>\n",
      " size: 2\n",
      "shape: (2,)\n"
     ]
    }
   ],
   "source": [
    "# a 2-dimensional row vector\n",
    "va = np.array([ 10, -20 ])\n",
    "\n",
    "print(f'\\n{va}\\n')\n",
    "print(f' type: {type(va)}')\n",
    "print(f' size: {va.size}')\n",
    "print(f'shape: {va.shape}')"
   ]
  },
  {
   "cell_type": "markdown",
   "metadata": {},
   "source": [
    "Geometric vectors describe a length and direction. The origin (0,0) is a common starting point for most vectors. However, they may begin anywhere."
   ]
  },
  {
   "cell_type": "code",
   "execution_count": 25,
   "metadata": {},
   "outputs": [
    {
     "data": {
      "image/png": "[encoded data removed]",
      "text/plain": [
       "<Figure size 432x288 with 1 Axes>"
      ]
     },
     "metadata": {},
     "output_type": "display_data"
    }
   ],
   "source": [
    "# plot the vector in \"standard position\"\n",
    "plt.plot([0,va[0]],[0,va[1]])\n",
    "\n",
    "# create a dotted line from -20 to 20 on 0 x axis\n",
    "plt.plot([-30, 30],[0, 0],'k--')\n",
    "\n",
    "# create a dotted line from -20 to 20 on 0 y axis\n",
    "plt.plot([0, 0],[-30, 30],'k--')\n",
    "\n",
    "# add some grid lines\n",
    "plt.grid()\n",
    "\n",
    "# fit the axis\n",
    "plt.axis((-30, 30, -30, 30))\n",
    "plt.show()"
   ]
  },
  {
   "cell_type": "code",
   "execution_count": null,
   "metadata": {},
   "outputs": [],
   "source": []
  },
  {
   "cell_type": "markdown",
   "metadata": {},
   "source": [
    "Vectors are robust to translation, meaning that there can be many [ 10 -20] vectors all with different origins. A geometric vector begins at an origin, whereas a coordinate may exist anywhere."
   ]
  },
  {
   "cell_type": "code",
   "execution_count": 20,
   "metadata": {},
   "outputs": [
    {
     "data": {
      "image/png": "[encoded data removed]",
      "text/plain": [
       "<Figure size 432x288 with 1 Axes>"
      ]
     },
     "metadata": {},
     "output_type": "display_data"
    }
   ],
   "source": [
    "# standard position\n",
    "sp = np.array([ 0, 0 ])\n",
    "\n",
    "# position a\n",
    "pa = np.array([ 5, 5 ])\n",
    "\n",
    "# position b\n",
    "pb = np.array([ -20, 15 ])\n",
    "\n",
    "plt.plot([sp[0],va[0]],[sp[0],va[1]])\n",
    "plt.plot([pa[0],va[0]+pa[0]],[pa[1],va[1]+pa[1]])\n",
    "plt.plot([pb[0],va[0]+pb[0]],[pb[1],va[1]+pb[1]])\n",
    "\n",
    "# create a dotted line from -20 to 20 on 0 x axis\n",
    "plt.plot([-30, 30],[0, 0],'k--')\n",
    "\n",
    "# create a dotted line from -20 to 20 on 0 y axis\n",
    "plt.plot([0, 0],[-30, 30],'k--')\n",
    "\n",
    "# add some grid lines\n",
    "plt.grid()\n",
    "\n",
    "plt.xlabel('x (0)')\n",
    "plt.ylabel('y (1)')\n",
    "\n",
    "# fit the axis\n",
    "plt.axis((-30, 30, -30, 30))\n",
    "plt.show()"
   ]
  },
  {
   "cell_type": "markdown",
   "metadata": {},
   "source": [
    "#### A 3-dimensional row vector\n",
    "\n",
    "$\n",
    "\\vec{vb} = \n",
    "\\left[\n",
    "\\begin{array}{ccc}\n",
    "    10 & -20 & \\pi \\\\\n",
    "\\end{array}\n",
    "\\right]\n",
    "$"
   ]
  },
  {
   "cell_type": "code",
   "execution_count": 52,
   "metadata": {},
   "outputs": [
    {
     "name": "stdout",
     "output_type": "stream",
     "text": [
      "\n",
      "[ 10.         -20.           3.14159265]\n",
      "\n",
      " type: <class 'numpy.ndarray'>\n",
      " size: 3\n",
      "shape: (3,)\n"
     ]
    }
   ],
   "source": [
    "# a 3-dimensional row vector\n",
    "vb = np.array([ 10, -20, np.pi ])\n",
    "\n",
    "print(f'\\n{vectb}\\n')\n",
    "print(f' type: {type(vectb)}')\n",
    "print(f' size: {vb.size}')\n",
    "print(f'shape: {vb.shape}')"
   ]
  },
  {
   "cell_type": "code",
   "execution_count": 53,
   "metadata": {},
   "outputs": [
    {
     "data": {
      "image/png": "[encoded data removed]",
      "text/plain": [
       "<Figure size 432x288 with 1 Axes>"
      ]
     },
     "metadata": {},
     "output_type": "display_data"
    }
   ],
   "source": [
    "# plotting the 3-dimensional vb\n",
    "fig = plt.figure()\n",
    "ax = fig.gca(projection='3d')\n",
    "ax.plot([0, vb[0]],[0, vb[1]],[0, vb[2]])\n",
    "\n",
    "# add some dashed lines across the x, y and z axis\n",
    "ax.plot([0, 0],[0, 0],[-20, 20],'k--')\n",
    "ax.plot([0, 0],[-20, 20],[0, 0],'k--')\n",
    "ax.plot([-20, 20],[0, 0],[0, 0],'k--')\n",
    "plt.show()"
   ]
  },
  {
   "cell_type": "markdown",
   "metadata": {},
   "source": [
    "#### A 3-dimensional column vector\n",
    "\n",
    "$\\vec{vectb}$ can be transposed $\\vec{vectb} = \\vec{vectb}^{T}$ to form a 3-dimensional column vector.\n",
    "\n",
    "<p><div>\n",
    "$\n",
    "\\vec{vectb} =\n",
    "\\left[\n",
    "\\begin{array}{ccc}\n",
    "    10 \\\\ \n",
    "    -20 \\\\ \n",
    "    \\pi \\\\\n",
    "\\end{array}\n",
    "\\right]\n",
    "= \\mathbb{R}^{3\\times1}\n",
    "$\n",
    "</div></p>\n"
   ]
  },
  {
   "cell_type": "code",
   "execution_count": 41,
   "metadata": {},
   "outputs": [
    {
     "data": {
      "text/plain": [
       "array([[ 10.  ],\n",
       "       [-20.  ],\n",
       "       [  3.14]])"
      ]
     },
     "execution_count": 41,
     "metadata": {},
     "output_type": "execute_result"
    }
   ],
   "source": [
    "# transposing 1-d vectores is not typically needed \n",
    "# with numpy as it will automatically broadcast a \n",
    "# 1D array when doing various calculations\n",
    "np.vstack(vect_b) "
   ]
  },
  {
   "cell_type": "markdown",
   "metadata": {},
   "source": [
    "## Addition and Subtraction\n",
    "\n",
    "Vector addition and subtraction requires vectors of equal length. Create two $\\mathbb{R}2$ ([Real number]) vectors $\\vec{vectc}$ and $\\vec{vectd}$. \n",
    "\n",
    "- Add the vectors together $\\vec{vecte} = \\vec{vectc} + \\vec{vectd}$\n",
    "- Subtract c from d, $\\vec{vectf} = \\vec{vectc} - \\vec{vectd}$\n",
    "\n",
    "[Real number]: https://en.wikipedia.org/wiki/Real_number"
   ]
  },
  {
   "cell_type": "code",
   "execution_count": 26,
   "metadata": {},
   "outputs": [
    {
     "data": {
      "text/plain": [
       "array([16, -3])"
      ]
     },
     "execution_count": 26,
     "metadata": {},
     "output_type": "execute_result"
    }
   ],
   "source": [
    "# two R2 vectors\n",
    "vectc = np.array([ 15, 8 ])\n",
    "vectd = np.array([ 1,  -11 ])\n",
    "\n",
    "# add the vectors\n",
    "vecte = vectc + vectd\n",
    "vecte"
   ]
  },
  {
   "cell_type": "code",
   "execution_count": 27,
   "metadata": {},
   "outputs": [
    {
     "data": {
      "image/png": "[encoded data removed]",
      "text/plain": [
       "<Figure size 432x288 with 1 Axes>"
      ]
     },
     "metadata": {},
     "output_type": "display_data"
    }
   ],
   "source": [
    "# geometric intuition\n",
    "fig, ax = plt.subplots()\n",
    "\n",
    "ax.annotate([0,0], (0,0))\n",
    "ax.annotate(vectc, vectc)\n",
    "ax.annotate(vecte, vecte)\n",
    "\n",
    "ax.plot([0, vectc[0]],[0, vectc[1]],'b',label='vectc')\n",
    "ax.plot([0, vectd[0]]+vectc[0],[0, vectd[1]]+vectc[1],'g',label='vectd')\n",
    "ax.plot([0, vecte[0]],[0, vecte[1]],'r',label='vecte')\n",
    "\n",
    "ax.axis('square')\n",
    "ax.axis((-10, 25, -15, 20 ))\n",
    "ax.grid()\n",
    "plt.legend()\n",
    "plt.xlabel('vecte = vectc + vectd')\n",
    "plt.show()"
   ]
  },
  {
   "cell_type": "markdown",
   "metadata": {},
   "source": [
    "An algebeaiac interpretation:\n",
    "\n",
    "<p><div>\n",
    "$\n",
    "\\left[\n",
    "\\begin{array}{ccc}\n",
    "    15 \\\\ \n",
    "    8 \\\\ \n",
    "\\end{array}\n",
    "\\right]\n",
    "+\n",
    "\\left[\n",
    "\\begin{array}{ccc}\n",
    "    1 \\\\ \n",
    "    -11 \\\\ \n",
    "\\end{array}\n",
    "\\right]\n",
    "=\n",
    "\\left[\n",
    "\\begin{array}{ccc}\n",
    "    16 \\\\ \n",
    "    -3 \\\\ \n",
    "\\end{array}\n",
    "\\right]\n",
    "$\n",
    "</div></p>"
   ]
  },
  {
   "cell_type": "code",
   "execution_count": 30,
   "metadata": {},
   "outputs": [
    {
     "data": {
      "text/plain": [
       "array([14, 19])"
      ]
     },
     "execution_count": 30,
     "metadata": {},
     "output_type": "execute_result"
    }
   ],
   "source": [
    "# subtract d from c\n",
    "vectf = vectc - vectd\n",
    "vectf"
   ]
  },
  {
   "cell_type": "markdown",
   "metadata": {},
   "source": [
    "## Scalar Multiplication\n",
    "\n",
    "Create $\\vec{vectg}$ as an $\\mathbb{R}2$ array with coordinates [ 2, 5 ]"
   ]
  },
  {
   "cell_type": "code",
   "execution_count": 33,
   "metadata": {},
   "outputs": [
    {
     "data": {
      "image/png": "[encoded data removed]",
      "text/plain": [
       "<Figure size 432x288 with 1 Axes>"
      ]
     },
     "metadata": {},
     "output_type": "display_data"
    }
   ],
   "source": [
    "vectg = np.array([ 5, 2 ])\n",
    "\n",
    "# geometric intuition\n",
    "fig, ax = plt.subplots()\n",
    "ax.plot([0, vectg[0]],[0, vectg[1]],'b',label='vectg')\n",
    "ax.grid()\n",
    "ax.axis('square')\n",
    "ax.axis((-10, 10, -10, 10 ))\n",
    "plt.legend()\n",
    "plt.show()"
   ]
  },
  {
   "cell_type": "markdown",
   "metadata": {},
   "source": [
    "Scalars are often noted with lowercase greek symbols like alpha: $\\alpha$, beta: $\\beta$, and theta: $\\theta$\n",
    "\n",
    "$\\vec{vecth} = \\theta\\vec{vectg}$\n",
    "\n",
    "<p><div>\n",
    "$\n",
    "1.5\n",
    "\\left[\n",
    "\\begin{array}{ccc}\n",
    "    5 \\\\ \n",
    "    2 \\\\ \n",
    "\\end{array}\n",
    "\\right]\n",
    "=\n",
    "\\left[\n",
    "\\begin{array}{ccc}\n",
    "    7.5 \\\\ \n",
    "    3 \\\\ \n",
    "\\end{array}\n",
    "\\right]\n",
    "$\n",
    "</div></p>"
   ]
  },
  {
   "cell_type": "code",
   "execution_count": 39,
   "metadata": {},
   "outputs": [
    {
     "data": {
      "text/plain": [
       "array([ 7.5,  3. ])"
      ]
     },
     "execution_count": 39,
     "metadata": {},
     "output_type": "execute_result"
    }
   ],
   "source": [
    "m = 1.5\n",
    "vecth = vectg * m\n",
    "vecth"
   ]
  },
  {
   "cell_type": "markdown",
   "metadata": {},
   "source": [
    "A geometric intrepretation shows the scaling of the vector through multiplication, changing it's lenth while it's orgin remains constant."
   ]
  },
  {
   "cell_type": "code",
   "execution_count": 41,
   "metadata": {},
   "outputs": [
    {
     "data": {
      "image/png": "[encoded data removed]",
      "text/plain": [
       "<Figure size 432x288 with 1 Axes>"
      ]
     },
     "metadata": {},
     "output_type": "display_data"
    }
   ],
   "source": [
    "# geometric intuition\n",
    "fig, ax = plt.subplots()\n",
    "ax.plot([0, vectg[0]],[0, vectg[1]],'b',label='vect_g')\n",
    "ax.plot([0, vecth[0]],[0, vecth[1]],'g:',label='vect_h')\n",
    "ax.grid()\n",
    "ax.axis('square')\n",
    "ax.axis((-10, 10, -10, 10 ))\n",
    "plt.legend()\n",
    "plt.show()\n"
   ]
  },
  {
   "cell_type": "markdown",
   "metadata": {},
   "source": [
    "Multiply $\\vec{vectg}$ by the scalar m2.\n",
    "\n",
    "$\\vec{vecti} = \\vec{vectg}\\alpha$"
   ]
  },
  {
   "cell_type": "code",
   "execution_count": 42,
   "metadata": {},
   "outputs": [
    {
     "data": {
      "image/png": "[encoded data removed]",
      "text/plain": [
       "<Figure size 432x288 with 1 Axes>"
      ]
     },
     "metadata": {},
     "output_type": "display_data"
    }
   ],
   "source": [
    "alpha = -1.5\n",
    "\n",
    "vecti = vectg * alpha\n",
    "\n",
    "# geometric intuition\n",
    "fig, ax = plt.subplots()\n",
    "ax.plot([0, vectg[0]],[0, vectg[1]],'b',label='vect_g')\n",
    "ax.plot([0, vecti[0]],[0, vecti[1]],'r:',label='vect_i')\n",
    "ax.grid()\n",
    "ax.axis('square')\n",
    "ax.axis((-10, 10, -10, 10 ))\n",
    "plt.legend()\n",
    "plt.show()"
   ]
  },
  {
   "cell_type": "markdown",
   "metadata": {},
   "source": [
    "# Vector multiplication (dot product)\n",
    "\n",
    "The dot product (or scalar product) is a single number representing the relationship between two vectors.\n",
    "\n",
    "- $\\vec{vectr}$ is an $\\mathbb{R}3$ array with coordinates [ 2, 5, -7 ]\n",
    "- $\\vec{vects}$ is an $\\mathbb{R}3$ array with coordinates [ 1.5, 4, -1 ]\n",
    "- The dot product of $\\vec{vectr}$ and $\\vec{vects}$ is 30.\n",
    "- $\\vec{vectr}\\cdot\\vec{vects} = \\vec{vectr}^T\\vec{vects} = \\sum_{i=1}^n\\vec{vectr_i}\\vec{vects_i}$\n",
    "- $\\langle\\ \\vec{vectr} ,\\ \\vec{vects} \\rangle \\!\\, = \n",
    "\\langle\\ \\left[\n",
    "\\begin{array}{ccc}\n",
    "    2.5 \\\\\n",
    "    5 \\\\\n",
    "    -7 \\\\ \n",
    "\\end{array}\n",
    "\\right] ,\\ \\left[\n",
    "\\begin{array}{ccc}\n",
    "    1.5 \\\\\n",
    "    4 \\\\\n",
    "    -1 \\\\ \n",
    "\\end{array}\n",
    "\\right] \\rangle \\!\\, = 30$"
   ]
  },
  {
   "cell_type": "code",
   "execution_count": 38,
   "metadata": {},
   "outputs": [
    {
     "data": {
      "text/plain": [
       "30.0"
      ]
     },
     "execution_count": 38,
     "metadata": {},
     "output_type": "execute_result"
    }
   ],
   "source": [
    "vectr = np.array([ 2, 5, -7])\n",
    "vects = np.array([ 1.5, 4, -1])\n",
    "\n",
    "# the dot product is the sum of products\n",
    "rs = np.dot(vectr,vects)\n",
    "rs"
   ]
  },
  {
   "cell_type": "code",
   "execution_count": null,
   "metadata": {},
   "outputs": [],
   "source": []
  }
 ],
 "metadata": {
  "kernelspec": {
   "display_name": "Python [conda env:anaconda3]",
   "language": "python",
   "name": "conda-env-anaconda3-py"
  },
  "language_info": {
   "codemirror_mode": {
    "name": "ipython",
    "version": 3
   },
   "file_extension": ".py",
   "mimetype": "text/x-python",
   "name": "python",
   "nbconvert_exporter": "python",
   "pygments_lexer": "ipython3",
   "version": "3.6.5"
  }
 },
 "nbformat": 4,
 "nbformat_minor": 2
}
